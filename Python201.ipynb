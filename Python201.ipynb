{
 "cells": [
  {
   "cell_type": "markdown",
   "id": "fdc18f12-e368-4044-9a99-6a6c87535b0e",
   "metadata": {},
   "source": [
    "# Python II\n",
    "\n",
    "1. Exception Handling\n",
    "2. File Handling\n",
    "3. Object Oriented Programming\n",
    "4. Functional Programming\n",
    "5. Threading and Processing"
   ]
  },
  {
   "cell_type": "markdown",
   "id": "d8c96d64-4d48-4bbe-a801-a5f612535233",
   "metadata": {},
   "source": [
    "## Exception Handling"
   ]
  },
  {
   "cell_type": "code",
   "execution_count": 25,
   "id": "f43c71be-2bc9-4b4a-9059-94c790f788a4",
   "metadata": {
    "tags": []
   },
   "outputs": [
    {
     "name": "stdin",
     "output_type": "stream",
     "text": [
      "Enter a number:  549\n",
      "Enter another number:  858\n"
     ]
    },
    {
     "name": "stdout",
     "output_type": "stream",
     "text": [
      "0.6398601398601399\n",
      "This will be executed no matter what.\n"
     ]
    }
   ],
   "source": [
    "# exception handling 1\n",
    "try:\n",
    "    num1 = int(input(\"Enter a number: \"))\n",
    "    num2 = int(input(\"Enter another number: \"))\n",
    "    result = num1/num2\n",
    "except ZeroDivisionError as e:\n",
    "    print(e)\n",
    "except Exception as e:\n",
    "    print(e)\n",
    "else:\n",
    "    print(result)\n",
    "finally:\n",
    "    print(\"This will be executed no matter what.\")"
   ]
  },
  {
   "cell_type": "code",
   "execution_count": 29,
   "id": "49481d30-2533-4537-8a0e-3f969f6738a3",
   "metadata": {
    "tags": []
   },
   "outputs": [],
   "source": [
    "# exception handling 2\n",
    "def root(base, exponent=0.5):\n",
    "    if base < 0:\n",
    "        raise Exception(\"Base is invalid. Enter non-negative base.\")\n",
    "    else:\n",
    "        return pow(base, exponent)"
   ]
  },
  {
   "cell_type": "code",
   "execution_count": 34,
   "id": "13d6fc49-f8e4-4547-807a-5c22b155b705",
   "metadata": {
    "tags": []
   },
   "outputs": [
    {
     "ename": "Exception",
     "evalue": "Base is invalid. Enter non-negative base.",
     "output_type": "error",
     "traceback": [
      "\u001b[1;31m---------------------------------------------------------------------------\u001b[0m",
      "\u001b[1;31mException\u001b[0m                                 Traceback (most recent call last)",
      "Cell \u001b[1;32mIn[34], line 1\u001b[0m\n\u001b[1;32m----> 1\u001b[0m \u001b[43mroot\u001b[49m\u001b[43m(\u001b[49m\u001b[38;5;241;43m-\u001b[39;49m\u001b[38;5;241;43m1\u001b[39;49m\u001b[43m)\u001b[49m\n",
      "Cell \u001b[1;32mIn[29], line 4\u001b[0m, in \u001b[0;36mroot\u001b[1;34m(base, exponent)\u001b[0m\n\u001b[0;32m      2\u001b[0m \u001b[38;5;28;01mdef\u001b[39;00m \u001b[38;5;21mroot\u001b[39m(base, exponent\u001b[38;5;241m=\u001b[39m\u001b[38;5;241m0.5\u001b[39m):\n\u001b[0;32m      3\u001b[0m     \u001b[38;5;28;01mif\u001b[39;00m base \u001b[38;5;241m<\u001b[39m \u001b[38;5;241m0\u001b[39m:\n\u001b[1;32m----> 4\u001b[0m         \u001b[38;5;28;01mraise\u001b[39;00m \u001b[38;5;167;01mException\u001b[39;00m(\u001b[38;5;124m\"\u001b[39m\u001b[38;5;124mBase is invalid. Enter non-negative base.\u001b[39m\u001b[38;5;124m\"\u001b[39m)\n\u001b[0;32m      5\u001b[0m     \u001b[38;5;28;01melse\u001b[39;00m:\n\u001b[0;32m      6\u001b[0m         \u001b[38;5;28;01mreturn\u001b[39;00m \u001b[38;5;28mpow\u001b[39m(base, exponent)\n",
      "\u001b[1;31mException\u001b[0m: Base is invalid. Enter non-negative base."
     ]
    }
   ],
   "source": [
    "root(-1)"
   ]
  },
  {
   "cell_type": "code",
   "execution_count": 44,
   "id": "7e71ccf3-d380-4a14-b3a2-c58538e2e1e9",
   "metadata": {
    "tags": []
   },
   "outputs": [],
   "source": [
    "# exception handling 3\n",
    "def area_rect(length, breadth):\n",
    "    assert (length >= breadth), \"Length should be greater than breadth.\"\n",
    "    return length*breadth"
   ]
  },
  {
   "cell_type": "code",
   "execution_count": 45,
   "id": "c3be487a-0bd9-41d3-8030-6b2a998463d9",
   "metadata": {
    "tags": []
   },
   "outputs": [
    {
     "ename": "AssertionError",
     "evalue": "Length should be greater than breadth.",
     "output_type": "error",
     "traceback": [
      "\u001b[1;31m---------------------------------------------------------------------------\u001b[0m",
      "\u001b[1;31mAssertionError\u001b[0m                            Traceback (most recent call last)",
      "Cell \u001b[1;32mIn[45], line 1\u001b[0m\n\u001b[1;32m----> 1\u001b[0m \u001b[43marea_rect\u001b[49m\u001b[43m(\u001b[49m\u001b[38;5;241;43m3\u001b[39;49m\u001b[43m,\u001b[49m\u001b[38;5;241;43m5\u001b[39;49m\u001b[43m)\u001b[49m\n",
      "Cell \u001b[1;32mIn[44], line 3\u001b[0m, in \u001b[0;36marea_rect\u001b[1;34m(length, breadth)\u001b[0m\n\u001b[0;32m      2\u001b[0m \u001b[38;5;28;01mdef\u001b[39;00m \u001b[38;5;21marea_rect\u001b[39m(length, breadth):\n\u001b[1;32m----> 3\u001b[0m     \u001b[38;5;28;01massert\u001b[39;00m (length \u001b[38;5;241m>\u001b[39m\u001b[38;5;241m=\u001b[39m breadth), \u001b[38;5;124m\"\u001b[39m\u001b[38;5;124mLength should be greater than breadth.\u001b[39m\u001b[38;5;124m\"\u001b[39m\n\u001b[0;32m      4\u001b[0m     \u001b[38;5;28;01mreturn\u001b[39;00m length\u001b[38;5;241m*\u001b[39mbreadth\n",
      "\u001b[1;31mAssertionError\u001b[0m: Length should be greater than breadth."
     ]
    }
   ],
   "source": [
    "area_rect(3,5)"
   ]
  },
  {
   "cell_type": "markdown",
   "id": "5ba3b073-6756-4b55-9835-3f150c83bd59",
   "metadata": {},
   "source": [
    "## File Handling"
   ]
  },
  {
   "cell_type": "code",
   "execution_count": 4,
   "id": "3d3223d4-b09c-4a79-8250-1768e0cd25b7",
   "metadata": {
    "tags": []
   },
   "outputs": [
    {
     "name": "stdout",
     "output_type": "stream",
     "text": [
      "Path exists!\n",
      "File exists!\n"
     ]
    }
   ],
   "source": [
    "import os\n",
    "\n",
    "# checking if path and file exists\n",
    "path = \"C:\\\\Users\\\\Ahmed\\\\Desktop\\\\text.txt\"\n",
    "\n",
    "if os.path.exists(path):\n",
    "    print(\"Path exists!\")\n",
    "    if os.path.isfile(path):\n",
    "        print(\"File exists!\")\n",
    "    else:\n",
    "        print(\"File doesn't exist.\")\n",
    "else:\n",
    "    print(\"Path doesn't exist.\")"
   ]
  },
  {
   "cell_type": "markdown",
   "id": "2a704d96-2afa-4c97-999a-cd8a8c2a3afe",
   "metadata": {},
   "source": [
    "**Sample Text:** Lorem ipsum dolor sit amet, consectetur adipiscing elit. Duis sodales metus vitae dolor aliquam viverra. Aenean fringilla sem sed justo aliquet, eget maximus turpis ultrices. Sed congue leo nec commodo cursus. Donec ultrices sed felis et euismod. Donec euismod bibendum tincidunt. Pellentesque blandit magna a efficitur laoreet. Proin sed ex et mauris efficitur mattis quis eget mi. Nullam vitae pharetra leo, at ultrices mauris."
   ]
  },
  {
   "cell_type": "code",
   "execution_count": 5,
   "id": "add9c1aa-a6eb-4a77-ae8d-9cdedbe1e7c9",
   "metadata": {
    "tags": []
   },
   "outputs": [
    {
     "name": "stdout",
     "output_type": "stream",
     "text": [
      "Lorem ipsum dolor sit amet, consectetur adipiscing elit. Duis sodales metus vitae dolor aliquam viverra. Aenean fringilla sem sed justo aliquet, eget maximus turpis ultrices. Sed congue leo nec commodo cursus. Donec ultrices sed felis et euismod. Donec euismod bibendum tincidunt. Pellentesque blandit magna a efficitur laoreet. Proin sed ex et mauris efficitur mattis quis eget mi. Nullam vitae pharetra leo, at ultrices mauris.\n"
     ]
    }
   ],
   "source": [
    "# reading a file 1\n",
    "with open(path) as file:\n",
    "    print(file.read())"
   ]
  },
  {
   "cell_type": "markdown",
   "id": "6ae1a1e6-35d2-487e-83d1-37977b98e2fc",
   "metadata": {},
   "source": [
    "**Note:** Above is the best practise to open a file as it closes the file automatically. Use `file.closed` to check open/close status of it. One can even use a `try else` block to avoid exception."
   ]
  },
  {
   "cell_type": "code",
   "execution_count": 6,
   "id": "26fecd69-6665-4a70-b842-29c4d2d5e54c",
   "metadata": {
    "tags": []
   },
   "outputs": [
    {
     "name": "stdout",
     "output_type": "stream",
     "text": [
      "[Errno 2] No such file or directory: 'C:\\\\Users\\\\Ahmed\\\\Desktop\\\\text.tx'\n"
     ]
    }
   ],
   "source": [
    "# reading file 2\n",
    "try:\n",
    "    with open(\"C:\\\\Users\\\\Ahmed\\\\Desktop\\\\text.tx\") as file:\n",
    "        print(file.read())\n",
    "except FileNotFoundError as e:\n",
    "    print(e)"
   ]
  },
  {
   "cell_type": "code",
   "execution_count": 7,
   "id": "9653edb4-e399-4d8c-b19c-d3013c0a1cb1",
   "metadata": {
    "tags": []
   },
   "outputs": [],
   "source": [
    "# writing to a file\n",
    "text = \"This text has been overwritten!\"\n",
    "\n",
    "with open(path, 'w') as file:\n",
    "    file.write(text)"
   ]
  },
  {
   "cell_type": "code",
   "execution_count": 8,
   "id": "7ddb3290-02b0-4406-abd8-68dcff3db9eb",
   "metadata": {},
   "outputs": [],
   "source": [
    "# appending to a file\n",
    "text = \"This text has been appended instead of being overwritten!\"\n",
    "\n",
    "with open(path, 'a') as file:\n",
    "    file.write(text)"
   ]
  },
  {
   "cell_type": "code",
   "execution_count": 9,
   "id": "53eb5781-2e62-4126-a9cb-34d3bd36e555",
   "metadata": {
    "tags": []
   },
   "outputs": [
    {
     "data": {
      "text/plain": [
       "'C:\\\\Users\\\\Ahmed\\\\Desktop\\\\copy.txt'"
      ]
     },
     "execution_count": 9,
     "metadata": {},
     "output_type": "execute_result"
    }
   ],
   "source": [
    "# copying a file\n",
    "import shutil\n",
    "\n",
    "shutil.copyfile(path,\"C:\\\\Users\\\\Ahmed\\\\Desktop\\\\copy.txt\")"
   ]
  },
  {
   "cell_type": "markdown",
   "id": "49aa6c8b-6257-451d-8503-944956088e7c",
   "metadata": {},
   "source": [
    "**Note:** We can use `copyfile`, `copy` and `copy2` to copy a file. The difference between them is that `copyfile` copies only the content, whereas `copy`, along with the content, copies the permisson mode and destination can be a directory, and `copy2` does all the above along with copying the metadata as well."
   ]
  },
  {
   "cell_type": "code",
   "execution_count": 19,
   "id": "c5bf9a1f-950c-4c06-b158-d119dee62349",
   "metadata": {
    "tags": []
   },
   "outputs": [
    {
     "name": "stdout",
     "output_type": "stream",
     "text": [
      "C:\\Users\\Ahmed\\Desktop\\text.txt has been moved!\n"
     ]
    }
   ],
   "source": [
    "# moving a file\n",
    "source = path\n",
    "dest = \"C:\\\\Users\\\\Ahmed\\\\Desktop\\\\Programming Stuff\\\\text.txt\"\n",
    "\n",
    "try:\n",
    "    if os.path.exists(dest):\n",
    "        print(\"There exists a file here!\")\n",
    "    else:\n",
    "        os.replace(source, dest)\n",
    "        print(f\"{path} has been moved!\")\n",
    "except FileNotFoundError as e:\n",
    "    print(e)"
   ]
  },
  {
   "cell_type": "code",
   "execution_count": 25,
   "id": "95384a9c-ba1b-4b40-9760-a27991abbcbc",
   "metadata": {
    "tags": []
   },
   "outputs": [
    {
     "name": "stdout",
     "output_type": "stream",
     "text": [
      "Deletion Successful!\n"
     ]
    }
   ],
   "source": [
    "# deleting a file\n",
    "try:\n",
    "    # os.remove(\"C:\\\\Users\\\\Ahmed\\\\Desktop\\\\copy.txt\")\n",
    "    # os.rmdir(\"C:\\\\Users\\\\Ahmed\\\\Desktop\\\\test\")\n",
    "    # shutil.rmtree(\"C:\\\\Users\\\\Ahmed\\\\Desktop\\\\test\")\n",
    "    pass\n",
    "except FileNotFoundError as e:\n",
    "    print(e)\n",
    "except PermissionError as e:\n",
    "    print(e)\n",
    "except OSError as e:\n",
    "    print(e)\n",
    "else:\n",
    "    print(\"Deletion Successful!\")"
   ]
  },
  {
   "cell_type": "markdown",
   "id": "7dd5852b-fa8a-4d87-9f8a-87c21884cd03",
   "metadata": {},
   "source": [
    "**Note:** `os.remove()` deletes a file from the memory itself. `os.rmsdir()` deletes an empty directory from the memory itself. `shutil.rmtree()` can delete a directory with content in it."
   ]
  },
  {
   "cell_type": "markdown",
   "id": "33d683f9-8ccd-4cf7-9dc7-ba321df1966a",
   "metadata": {
    "jp-MarkdownHeadingCollapsed": true,
    "tags": []
   },
   "source": [
    "## Object Oriented Programming\n",
    "\n",
    "Object-Oriented Programming (OOP) is a programming paradigm that organizes and models software based on the concept of \"objects.\" Objects represent real-world entities and can have both data (attributes) and behaviors (methods). OOP provides a structured and modular way of designing and developing software, promoting code reusability and making it easier to manage complex systems. Here are some conceptual explanations, use cases, and the need for OOP:\n",
    "\n",
    "---"
   ]
  },
  {
   "cell_type": "markdown",
   "id": "99fc266c-fadb-4296-a7f4-66d26a170703",
   "metadata": {},
   "source": [
    "**Conceptual Explanation:**\n",
    "1. **Objects:** In OOP, everything is an object, which is an instance of a class. A class is like a blueprint that defines the structure and behavior of objects.\n",
    "2. **Classes:** Classes are templates or blueprints for creating objects. They define the attributes (data) and methods (functions) that objects of that class will have.\n",
    "3. **Encapsulation:** Encapsulation is the idea of bundling data (attributes) and methods that operate on the data into a single unit (a class). It hides the internal details and provides an interface for interacting with the object.\n",
    "4. **Inheritance:** Inheritance allows you to create a new class based on an existing class, inheriting its attributes and methods. It promotes code reuse and the creation of more specialized classes.\n",
    "5. **Polymorphism:** Polymorphism enables objects of different classes to be treated as objects of a common base class. This allows for flexibility and extensibility in your code."
   ]
  },
  {
   "cell_type": "markdown",
   "id": "67e3a83d-2045-48a5-88c4-ce2372dd0d63",
   "metadata": {},
   "source": [
    "**Why OOP is Used:**\n",
    "1. **Modularity:** OOP promotes modularity by breaking down a complex system into smaller, manageable components (objects and classes).\n",
    "2. **Reusability:** With inheritance, you can reuse and extend existing classes to create new ones, reducing redundancy and saving development time.\n",
    "3. **Abstraction:** OOP allows you to abstract complex real-world systems into simpler models, making it easier to design and understand software.\n",
    "4. **Maintenance:** Code organized using OOP is generally easier to maintain and debug, as changes to one part of the code often have limited impacts on other parts."
   ]
  },
  {
   "cell_type": "markdown",
   "id": "3c623b2a-2a29-4e91-b526-9413cd1aec6d",
   "metadata": {},
   "source": [
    "**Use Cases:**\n",
    "1. **Software Development:** OOP is commonly used for developing software applications, whether they are desktop applications, web applications, or mobile apps. It provides a structured way to model and design software.\n",
    "2. **Game Development:** Many video games are developed using OOP principles. Game objects, characters, and behaviors can be represented as objects and classes.\n",
    "3. **Database Systems:** OOP concepts are applied in Object-Relational Mapping (ORM) frameworks, which map database tables to classes and objects in the code.\n",
    "4. **Simulation and Modeling:** OOP is used in scientific simulations and modeling, where objects represent physical or abstract entities.\n",
    "5. **GUI Applications:** Graphical User Interface (GUI) development often employs OOP to model the various elements of the user interface as objects.\n",
    "6. **Robotics and Embedded Systems:** In robotics and embedded systems, objects can represent sensors, actuators, and control logic."
   ]
  },
  {
   "cell_type": "markdown",
   "id": "a11c0400-92b4-4264-8437-1367b9ed27e9",
   "metadata": {},
   "source": [
    "**The Need for OOP:**\n",
    "1. **Complexity Handling:** In modern software development, systems are becoming increasingly complex. OOP helps manage this complexity by breaking it down into more manageable pieces.\n",
    "2. **Code Reusability:** OOP allows you to reuse code, reducing the need to rewrite similar functionality, which saves time and minimizes errors.\n",
    "3. **Flexibility and Extensibility:** OOP makes it easier to adapt and extend existing code to meet changing requirements.\n",
    "4. **Real-World Modeling:** OOP allows software to be modeled after real-world objects and interactions, making it more intuitive to understand and work with.\n",
    "5. **Collaborative Development:** OOP facilitates team collaboration by providing a clear and organized structure, making it easier for multiple developers to work on the same project.\n",
    "\n",
    "Overall, OOP is a valuable approach to software development because it provides a way to manage complexity, promote code reusability, and model software in a way that closely aligns with real-world concepts and behaviors. It has become a foundational paradigm in modern programming.\n",
    "\n",
    "---"
   ]
  },
  {
   "cell_type": "code",
   "execution_count": 1,
   "id": "e93ed69a-8d0d-4c6b-8013-b61f4b19d02a",
   "metadata": {
    "tags": []
   },
   "outputs": [],
   "source": [
    "class Car:\n",
    "    \n",
    "    def __init__(self, make, model, year, colour): # attributes\n",
    "        self.make = make # instance variables\n",
    "        self.model = model        \n",
    "        self.year = year        \n",
    "        self.colour = colour        \n",
    "        \n",
    "    cylinders = 4 # class variables\n",
    "        \n",
    "    def drive(self): # method\n",
    "        print(\"The car is driving!\")\n",
    "        \n",
    "    def stop(self):\n",
    "        print(\"The car has stopped!\")"
   ]
  },
  {
   "cell_type": "code",
   "execution_count": 29,
   "id": "71eab67e-f623-46a5-ac37-68a71333e03e",
   "metadata": {
    "tags": []
   },
   "outputs": [],
   "source": [
    "# objects\n",
    "my_car = Car('Audi', 'R8', 2019, 'Black')\n",
    "dad_car = Car('Mahindra', 'Thar', 1990, 'Camo')"
   ]
  },
  {
   "cell_type": "code",
   "execution_count": 31,
   "id": "b270d9cf-a619-45fa-a4e0-ee143f522d25",
   "metadata": {
    "tags": []
   },
   "outputs": [
    {
     "data": {
      "text/plain": [
       "'Camo'"
      ]
     },
     "execution_count": 31,
     "metadata": {},
     "output_type": "execute_result"
    }
   ],
   "source": [
    "# attributes\n",
    "my_car.model\n",
    "dad_car.colour"
   ]
  },
  {
   "cell_type": "code",
   "execution_count": 33,
   "id": "487402c1-39e8-4282-bda9-a28198445760",
   "metadata": {
    "tags": []
   },
   "outputs": [
    {
     "name": "stdout",
     "output_type": "stream",
     "text": [
      "The car is driving!\n",
      "The car has stopped!\n"
     ]
    }
   ],
   "source": [
    "# methods\n",
    "dad_car.drive()\n",
    "my_car.stop()"
   ]
  },
  {
   "cell_type": "code",
   "execution_count": 39,
   "id": "84399380-35a1-4f2e-969d-6b011eebe310",
   "metadata": {
    "tags": []
   },
   "outputs": [
    {
     "data": {
      "text/plain": [
       "6"
      ]
     },
     "execution_count": 39,
     "metadata": {},
     "output_type": "execute_result"
    }
   ],
   "source": [
    "# class variables\n",
    "dad_car.cylinders\n",
    "\n",
    "my_car.cylinders = 6\n",
    "my_car.cylinders"
   ]
  },
  {
   "cell_type": "markdown",
   "id": "cbc7fe56-e203-41e3-90ba-8368fe0b3c64",
   "metadata": {},
   "source": [
    "### Inheritance"
   ]
  },
  {
   "cell_type": "code",
   "execution_count": 11,
   "id": "8c4fbd1c-7fa3-4713-8971-8d3978bb713e",
   "metadata": {},
   "outputs": [],
   "source": [
    "class SuperCar(Car):\n",
    "    def info(self):\n",
    "        print(\"You are driving a supercar!\")"
   ]
  },
  {
   "cell_type": "code",
   "execution_count": 10,
   "id": "60dcb329-d764-4faf-b5a3-fd36fb169c29",
   "metadata": {},
   "outputs": [],
   "source": [
    "class Sedan(Car):\n",
    "    def info(self):\n",
    "        print(\"You are driving a sedan!\")"
   ]
  },
  {
   "cell_type": "code",
   "execution_count": 12,
   "id": "2dda1aae-b7bf-46da-8d1d-914726759adf",
   "metadata": {},
   "outputs": [],
   "source": [
    "my_car = SuperCar('Ferrari','458',2014,'Red')\n",
    "home_car = Sedan('BMW','7 Series',2018,'Blue')"
   ]
  },
  {
   "cell_type": "code",
   "execution_count": 13,
   "id": "5dff0c4a-6825-4c31-96de-b280728f6e6d",
   "metadata": {},
   "outputs": [
    {
     "name": "stdout",
     "output_type": "stream",
     "text": [
      "You are driving a sedan!\n",
      "The car has stopped!\n"
     ]
    }
   ],
   "source": [
    "home_car.info()\n",
    "home_car.stop()"
   ]
  },
  {
   "cell_type": "markdown",
   "id": "10a7e2f1-ed53-413d-8154-962b08838220",
   "metadata": {},
   "source": [
    "**Multi-Level Inheritance**"
   ]
  },
  {
   "cell_type": "code",
   "execution_count": 14,
   "id": "fbf1b761-099e-4673-8b2d-8fdf034afaf8",
   "metadata": {
    "tags": []
   },
   "outputs": [],
   "source": [
    "class HyperCar(SuperCar):\n",
    "    has1000bhp = True"
   ]
  },
  {
   "cell_type": "code",
   "execution_count": 15,
   "id": "fd09df80-24e6-4fa0-a92b-5e7f44ae076c",
   "metadata": {
    "tags": []
   },
   "outputs": [],
   "source": [
    "my_car = HyperCar('McLaren','P1',2019,'Black')"
   ]
  },
  {
   "cell_type": "code",
   "execution_count": 18,
   "id": "21cc5575-c906-42ea-b50a-ceab72873104",
   "metadata": {
    "tags": []
   },
   "outputs": [
    {
     "name": "stdout",
     "output_type": "stream",
     "text": [
      "The car has stopped!\n"
     ]
    }
   ],
   "source": [
    "my_car.colour\n",
    "my_car.has1000bhp\n",
    "my_car.stop()"
   ]
  },
  {
   "cell_type": "markdown",
   "id": "71f69163-563e-49b5-8a82-044c8a8f2beb",
   "metadata": {},
   "source": [
    "**Multiple Inheritance**"
   ]
  },
  {
   "cell_type": "code",
   "execution_count": 19,
   "id": "6ea860fa-0d4f-45eb-b1a5-8f978be1da77",
   "metadata": {
    "tags": []
   },
   "outputs": [],
   "source": [
    "class Prey:\n",
    "    def flee(self):\n",
    "        print(\"This animal flees.\")\n",
    "\n",
    "class Predator:\n",
    "    def hunt(self):\n",
    "        print(\"This animal hunts.\")"
   ]
  },
  {
   "cell_type": "code",
   "execution_count": 20,
   "id": "b14763e2-ed07-486a-b991-192720f1246e",
   "metadata": {
    "tags": []
   },
   "outputs": [],
   "source": [
    "class Rabbit(Prey):\n",
    "    pass\n",
    "\n",
    "class Hawk(Predator):\n",
    "    pass\n",
    "\n",
    "class Fish(Prey, Predator):\n",
    "    pass"
   ]
  },
  {
   "cell_type": "code",
   "execution_count": 21,
   "id": "767ad538-402a-4017-b7d9-cbce1c234891",
   "metadata": {
    "tags": []
   },
   "outputs": [],
   "source": [
    "rabbit = Rabbit()\n",
    "hawk = Hawk()\n",
    "fish = Fish()"
   ]
  },
  {
   "cell_type": "code",
   "execution_count": 24,
   "id": "3ac55437-fb85-4761-af51-9e35b5c07801",
   "metadata": {
    "tags": []
   },
   "outputs": [
    {
     "name": "stdout",
     "output_type": "stream",
     "text": [
      "This animal flees.\n",
      "This animal hunts.\n",
      "This animal flees.\n",
      "This animal hunts.\n"
     ]
    }
   ],
   "source": [
    "rabbit.flee()\n",
    "hawk.hunt()\n",
    "\n",
    "fish.flee()\n",
    "fish.hunt()"
   ]
  },
  {
   "cell_type": "markdown",
   "id": "851d3cde-3df0-4b3c-8b20-80eff6e757cb",
   "metadata": {},
   "source": [
    "**Note:** `super()` function gives a sub-class access to parent-class attributes."
   ]
  },
  {
   "cell_type": "code",
   "execution_count": 35,
   "id": "326344a3-e636-443d-b0a0-069fa78f98c1",
   "metadata": {
    "tags": []
   },
   "outputs": [],
   "source": [
    "class Rectange:\n",
    "    def __init__(self, length, width):\n",
    "        self.length = length\n",
    "        self.width = width\n",
    "        \n",
    "class Square(Rectange):\n",
    "    def __init__(self, length, width):\n",
    "        super().__init__(length, width)\n",
    "    \n",
    "    def area(self):\n",
    "        return self.length * self.width\n",
    "\n",
    "class Cube(Rectange):\n",
    "    def __init__(self, length, width, height):\n",
    "        super().__init__(length, width)\n",
    "        self.height = height\n",
    "    \n",
    "    def volume(self):\n",
    "        return self.length * self.width * self.height"
   ]
  },
  {
   "cell_type": "code",
   "execution_count": 38,
   "id": "a6d9ae99-86ec-4b23-a026-3100d63cd1ad",
   "metadata": {
    "tags": []
   },
   "outputs": [
    {
     "data": {
      "text/plain": [
       "27"
      ]
     },
     "execution_count": 38,
     "metadata": {},
     "output_type": "execute_result"
    }
   ],
   "source": [
    "Square(3,3).area()\n",
    "Cube(3,3,3).volume()"
   ]
  },
  {
   "cell_type": "markdown",
   "id": "e972b8c9-9b0a-4397-8057-fe580d27cfdd",
   "metadata": {},
   "source": [
    "### Polymorphism"
   ]
  },
  {
   "cell_type": "code",
   "execution_count": 28,
   "id": "d7514df2-04c6-4b4a-b4ac-0eaf0218eace",
   "metadata": {},
   "outputs": [],
   "source": [
    "class Animal:\n",
    "    def eats(self):\n",
    "        print(\"This animal eats food.\")\n",
    "        \n",
    "class Rabbit(Animal):\n",
    "    def eats(self):\n",
    "        print(\"This animal eats carrot.\")"
   ]
  },
  {
   "cell_type": "code",
   "execution_count": 29,
   "id": "e57d3f5e-9d0f-4291-a5a0-f2125f9dae74",
   "metadata": {},
   "outputs": [],
   "source": [
    "lion = Animal()\n",
    "rabbit = Rabbit()"
   ]
  },
  {
   "cell_type": "code",
   "execution_count": 31,
   "id": "6ff48cbe-178b-4440-85cb-bce5944e4a1f",
   "metadata": {},
   "outputs": [
    {
     "name": "stdout",
     "output_type": "stream",
     "text": [
      "This animal eats food.\n",
      "This animal eats carrot.\n"
     ]
    }
   ],
   "source": [
    "lion.eats()\n",
    "rabbit.eats()"
   ]
  },
  {
   "cell_type": "markdown",
   "id": "c5761bd1-e7f7-4d05-a46b-d8e0f63b0f88",
   "metadata": {
    "tags": []
   },
   "source": [
    "## Functional Programming\n",
    "\n",
    "Functional Programming (FP) is a programming paradigm that treats computation as the evaluation of mathematical functions and avoids changing state and mutable data. It's used to write code that is more declarative, concise, and less error-prone. Here's a conceptual explanation of FP, its use cases, and why it's used:\n",
    "\n",
    "---"
   ]
  },
  {
   "cell_type": "markdown",
   "id": "bae6df33-5571-44c1-ae07-ab624160c141",
   "metadata": {},
   "source": [
    "**Conceptual Explanation:**\n",
    "1. **First-Class Functions:** In FP, functions are treated as first-class citizens, which means they can be assigned to variables, passed as arguments to other functions, and returned as values from other functions.\n",
    "2. **Pure Functions:** A core concept in FP is pure functions. These functions produce the same output for the same input and have no side effects, meaning they don't modify external state.\n",
    "3. **Immutability:** Data, once created, is not changed. Instead of modifying existing data structures, FP promotes creating new data structures with modifications.\n",
    "4. **Higher-Order Functions:** FP often relies on higher-order functions, which are functions that take other functions as parameters or return functions as results. They enable abstraction and code reusability."
   ]
  },
  {
   "cell_type": "markdown",
   "id": "a449c441-ef9c-402d-a6d1-0fd4eccf6d05",
   "metadata": {},
   "source": [
    "**Why Functional Programming is Used:**\n",
    "1. **Readability and Maintainability:** FP tends to produce more concise and readable code due to its declarative nature. This makes it easier to understand, maintain, and debug.\n",
    "2. **Predictability:** Pure functions and immutability make code predictable, as the same input will always produce the same output, eliminating unexpected side effects.\n",
    "3. **Parallelism and Concurrency:** FP makes it easier to write code that can be parallelized and executed concurrently, as it avoids shared mutable state.\n",
    "4. **Testing:** Pure functions are highly testable since they don't depend on external state. This promotes the development of unit tests, making it easier to identify and fix issues."
   ]
  },
  {
   "cell_type": "markdown",
   "id": "12eb3320-9ff6-4590-8abb-ea5683dfff64",
   "metadata": {},
   "source": [
    "**Use Cases:**\n",
    "1. **Data Transformation:** FP is often used for data manipulation, transformation, and filtering, which are common tasks in data analysis and processing.\n",
    "2. **Functional Libraries:** Many functional programming libraries and frameworks are available for tasks such as data processing (e.g., pandas in Python), stream processing (e.g., Apache Kafka), and big data analysis (e.g., Apache Spark).\n",
    "3. **Concurrency:** FP is beneficial in concurrent and parallel programming, where avoiding shared mutable state is crucial for avoiding race conditions and bugs.\n",
    "4. **Mathematical and Scientific Computing:** FP aligns well with mathematical and scientific computation, as it follows the principles of pure functions and immutability.\n",
    "5. **UI Development:** FP principles are applied in user interface development, where managing and updating user interface components without side effects is important.\n",
    "6. **Machine Learning:** Functional programming can be used for feature engineering and data preprocessing in machine learning pipelines, promoting immutability and predictability."
   ]
  },
  {
   "cell_type": "markdown",
   "id": "59b16bbe-921f-4a98-b838-5fe4fccc44ed",
   "metadata": {},
   "source": [
    "**The Need for Functional Programming:**\n",
    "1. **Reducing Bugs:** FP helps minimize programming errors by encouraging pure functions and immutability, which reduce the risk of introducing unexpected side effects and bugs.\n",
    "2. **Maintainability:** FP promotes clean and modular code, making it easier to maintain and extend software as it evolves.\n",
    "3. **Scalability:** For applications that require scalability, FP can simplify the development of concurrent and parallel code, as it avoids shared mutable state.\n",
    "4. **Testing and Debugging:** The predictability of pure functions makes testing and debugging more efficient, which is crucial in data analysis, scientific computing, and software development.\n",
    "5. **Declarative Style:** FP encourages a declarative coding style, which is often more intuitive and easier to understand, especially in domains where data transformation and processing are central.\n",
    "\n",
    "Overall, Functional Programming is used to write code that is more reliable, readable, and maintainable. Its principles are particularly valuable in situations where avoiding side effects, ensuring predictability, and managing data transformations are critical, such as in data science, machine learning, scientific computing, and large-scale software development.\n",
    "\n",
    "---"
   ]
  },
  {
   "cell_type": "code",
   "execution_count": 39,
   "id": "b5ff9b88-62a5-4000-b292-b6c5556b856c",
   "metadata": {},
   "outputs": [],
   "source": [
    "# recursion\n",
    "def fibonacci(steps=10):\n",
    "    pass"
   ]
  },
  {
   "cell_type": "code",
   "execution_count": 43,
   "id": "e6707653-001c-41b8-83ea-91215ef2ae2d",
   "metadata": {},
   "outputs": [
    {
     "data": {
      "text/plain": [
       "'Odd'"
      ]
     },
     "execution_count": 43,
     "metadata": {},
     "output_type": "execute_result"
    }
   ],
   "source": [
    "# lambda function\n",
    "polarity = lambda x: 'Even' if x%2==0 else 'Odd'\n",
    "polarity(99)"
   ]
  },
  {
   "cell_type": "code",
   "execution_count": 49,
   "id": "9a3020ca-5550-46f3-9dd0-d75373e674ae",
   "metadata": {},
   "outputs": [
    {
     "data": {
      "text/plain": [
       "[['Afhaam', 'E', 20],\n",
       " ['Mubashir', 'D', 19],\n",
       " ['Humera', 'C', 20],\n",
       " ['Zeeshan', 'B', 22],\n",
       " ['Danish', 'A', 21]]"
      ]
     },
     "execution_count": 49,
     "metadata": {},
     "output_type": "execute_result"
    }
   ],
   "source": [
    "# sort\n",
    "students = [\n",
    "            ['Danish','A',21],\n",
    "            ['Zeeshan','B',22],\n",
    "            ['Humera','C',20],\n",
    "            ['Mubashir','D',19],\n",
    "            ['Afhaam','E',20],\n",
    "           ]\n",
    "\n",
    "grade = lambda grades:grades[1]\n",
    "students.sort(key=grade, reverse=True)\n",
    "students"
   ]
  },
  {
   "cell_type": "code",
   "execution_count": 53,
   "id": "773b6c21-8b54-4a85-bdc4-d5b26cd6dc06",
   "metadata": {},
   "outputs": [
    {
     "data": {
      "text/plain": [
       "[('petrol', 48.396), ('milk', 122.1), ('burger', 111.0), ('yoghurt', 166.5)]"
      ]
     },
     "execution_count": 53,
     "metadata": {},
     "output_type": "execute_result"
    }
   ],
   "source": [
    "# map\n",
    "items = [('petrol',2.18),('milk',5.50),('burger',5.00),('yoghurt',7.50)]\n",
    "\n",
    "to_INR = lambda items: (items[0],items[1]*22.20)\n",
    "list(map(to_INR, items))"
   ]
  },
  {
   "cell_type": "markdown",
   "id": "2bbae129-6919-4cc0-bda3-a99f78dbccac",
   "metadata": {},
   "source": [
    "**Note:** `map()` applies a given function to each item of an iterable and returns a new iterable with the results."
   ]
  },
  {
   "cell_type": "code",
   "execution_count": 62,
   "id": "d10f9057-cc8f-428d-86d1-4e115dcebd03",
   "metadata": {
    "tags": []
   },
   "outputs": [
    {
     "data": {
      "text/plain": [
       "[('Danish', 21), ('Zeeshan', 22)]"
      ]
     },
     "execution_count": 62,
     "metadata": {},
     "output_type": "execute_result"
    }
   ],
   "source": [
    "# filter\n",
    "friends = [('Danish',21),('Mubashir',19),('Afhaam',20),('Zeeshan',22)]\n",
    "\n",
    "voter = lambda items:items[1] >= 21\n",
    "list(filter(voter, friends))"
   ]
  },
  {
   "cell_type": "markdown",
   "id": "6e471edc-5ebb-4490-8842-8a636c598483",
   "metadata": {},
   "source": [
    "**Note:** `filter()` filters items from an iterable based on a given condition and returns a new iterable with the filtered items."
   ]
  },
  {
   "cell_type": "code",
   "execution_count": 71,
   "id": "2c02d5c9-ad35-4332-80bd-e7c66d1c5d7f",
   "metadata": {
    "tags": []
   },
   "outputs": [
    {
     "data": {
      "text/plain": [
       "120"
      ]
     },
     "execution_count": 71,
     "metadata": {},
     "output_type": "execute_result"
    }
   ],
   "source": [
    "# reduce\n",
    "from functools import reduce\n",
    "\n",
    "reduce((lambda x,y:x*y), range(1,6))"
   ]
  },
  {
   "cell_type": "markdown",
   "id": "33647932-1a45-482a-a84b-e7e0a86aa158",
   "metadata": {},
   "source": [
    "**Note:** `reduce()` function applies a given function cumulatively to the items of an iterable, reducing it to a single value."
   ]
  },
  {
   "cell_type": "code",
   "execution_count": 76,
   "id": "69fd4a6a-a7ee-4878-bba7-8eb1339ebf1d",
   "metadata": {},
   "outputs": [
    {
     "data": {
      "text/plain": [
       "[('Danish', 91, 'sleeping'),\n",
       " ('Dania', 96, 'cooking'),\n",
       " ('Laiba', 99, 'shopping'),\n",
       " ('Humera', 89, 'time-passing'),\n",
       " ('Mubashir', 59, 'smoking'),\n",
       " ('Nomaan', 85, 'diy-ing'),\n",
       " ('Alex', 86, 'magic-ing')]"
      ]
     },
     "execution_count": 76,
     "metadata": {},
     "output_type": "execute_result"
    }
   ],
   "source": [
    "# zip\n",
    "names = ['Danish','Dania','Laiba','Humera','Mubashir','Nomaan','Alex']\n",
    "marks = [91,96,99,89,59,85,86]\n",
    "interests = ['sleeping','cooking','shopping','time-passing','smoking','diy-ing','magic-ing']\n",
    "\n",
    "list(zip(names, marks, interests))"
   ]
  },
  {
   "cell_type": "markdown",
   "id": "2e652849-8c6c-4556-bc16-bf0c90fd8c0d",
   "metadata": {},
   "source": [
    "**Note:** `zip()` combines multiple iterables (e.g., lists, tuples) element-wise into tuples and returns an iterable of these tuples."
   ]
  },
  {
   "cell_type": "markdown",
   "id": "95e1500d-c84b-468e-bb78-b424fc9b3bd5",
   "metadata": {
    "tags": []
   },
   "source": [
    "## Threading and Processing\n",
    "\n",
    "- **Threads:** Threads are the smallest units of execution within a process. Multiple threads can exist within a single process, and they share the same memory space. Threads are lightweight and used for concurrent execution of tasks.\n",
    "\n",
    "- **Processors:** Processors, also known as CPUs (Central Processing Units), are the hardware components of a computer that execute instructions. Modern computers often have multiple processor cores, allowing for parallel execution of tasks."
   ]
  },
  {
   "cell_type": "markdown",
   "id": "406fe770-49dd-4e92-aa9f-10262c63c71f",
   "metadata": {},
   "source": [
    "**Multithreading in Python:**\n",
    "- **Multithreading:** Multithreading is a programming technique that uses multiple threads within a single process to perform tasks concurrently. In Python, the Global Interpreter Lock (GIL) limits the true parallelism of threads. However, multithreading can still be useful for tasks that involve I/O-bound operations like file I/O or network requests.\n",
    "- **Use Cases:** Multithreading is suitable for tasks where the program spends a significant amount of time waiting for external resources (e.g., file reads, network requests). It can be used to improve the responsiveness and performance of I/O-bound applications.\n",
    "\n",
    "**Multiprocessing in Python:**\n",
    "- **Multiprocessing:** Multiprocessing is a technique that utilizes multiple processes, each with its own memory space and Python interpreter. This allows for true parallelism, as the GIL doesn't affect processes. Multiprocessing is used for CPU-bound tasks that involve extensive computations.\n",
    "- **Use Cases:** Multiprocessing is suitable for computationally intensive tasks like data processing, numerical simulations, and running CPU-bound algorithms in parallel. It can take full advantage of multi-core processors for improved performance.\n",
    "\n",
    "In summary, multithreading is used for concurrent execution of tasks within a single process and is suitable for I/O-bound operations. Multiprocessing, on the other hand, uses multiple processes for parallel execution and is ideal for CPU-bound tasks. The choice between multithreading and multiprocessing depends on the nature of the task and the hardware available. Python provides libraries like `threading` for multithreading and `multiprocessing` for multiprocessing to facilitate concurrent and parallel programming."
   ]
  },
  {
   "cell_type": "code",
   "execution_count": 16,
   "id": "e0e0452a-322c-489d-b47e-88060d1ee905",
   "metadata": {},
   "outputs": [],
   "source": [
    "import threading\n",
    "import time"
   ]
  },
  {
   "cell_type": "code",
   "execution_count": 10,
   "id": "bc22007e-343a-436f-b5df-eb6a40eff278",
   "metadata": {
    "tags": []
   },
   "outputs": [
    {
     "data": {
      "text/plain": [
       "[<_MainThread(MainThread, started 10384)>,\n",
       " <Thread(IOPub, started daemon 1748)>,\n",
       " <Heartbeat(Heartbeat, started daemon 3780)>,\n",
       " <ControlThread(Control, started daemon 1992)>,\n",
       " <HistorySavingThread(IPythonHistorySavingThread, started 2888)>,\n",
       " <ParentPollerWindows(Thread-4, started daemon 1236)>]"
      ]
     },
     "execution_count": 10,
     "metadata": {},
     "output_type": "execute_result"
    }
   ],
   "source": [
    "threading.active_count() # returns no. of active threads\n",
    "threading.enumerate() # returns descp. of active threads"
   ]
  },
  {
   "cell_type": "markdown",
   "id": "28f7fb51-8211-4dc6-8124-6ad233b57380",
   "metadata": {},
   "source": [
    "### Multithreading"
   ]
  },
  {
   "cell_type": "code",
   "execution_count": 11,
   "id": "12b19bf4-ee80-467f-af9c-646cae9a2046",
   "metadata": {
    "tags": []
   },
   "outputs": [],
   "source": [
    "def eat_breakfast():\n",
    "    time.sleep(4)\n",
    "    print('I am having breakfast.')"
   ]
  },
  {
   "cell_type": "code",
   "execution_count": 9,
   "id": "0535e0ef-77ff-45f1-9821-3ff948a92ffd",
   "metadata": {
    "tags": []
   },
   "outputs": [],
   "source": [
    "def drink_tea():\n",
    "    time.sleep(3)\n",
    "    print('I am drinking tea.')"
   ]
  },
  {
   "cell_type": "code",
   "execution_count": 15,
   "id": "ab5ea7bf-aee0-4a68-9367-59d0e54412c1",
   "metadata": {
    "tags": []
   },
   "outputs": [],
   "source": [
    "def check_emails():\n",
    "    time.sleep(5)\n",
    "    print('I am checking my emails.')"
   ]
  },
  {
   "cell_type": "code",
   "execution_count": 36,
   "id": "7c788505-4631-45fe-a8a9-85d81b34c2ce",
   "metadata": {
    "tags": []
   },
   "outputs": [
    {
     "name": "stdout",
     "output_type": "stream",
     "text": [
      "I am having breakfast.\n",
      "I am drinking tea.\n",
      "I am checking my emails.\n"
     ]
    },
    {
     "data": {
      "text/plain": [
       "[<_MainThread(MainThread, started 10384)>,\n",
       " <Thread(IOPub, started daemon 1748)>,\n",
       " <Heartbeat(Heartbeat, started daemon 3780)>,\n",
       " <ControlThread(Control, started daemon 1992)>,\n",
       " <HistorySavingThread(IPythonHistorySavingThread, started 2888)>,\n",
       " <ParentPollerWindows(Thread-4, started daemon 1236)>]"
      ]
     },
     "execution_count": 36,
     "metadata": {},
     "output_type": "execute_result"
    }
   ],
   "source": [
    "eat_breakfast()\n",
    "drink_tea()\n",
    "check_emails()\n",
    "threading.enumerate()"
   ]
  },
  {
   "cell_type": "markdown",
   "id": "304859cd-8eac-4998-90fa-b168206950c7",
   "metadata": {},
   "source": [
    "**Note:** The above code took $3+4+5=12$ seconds to run. It ran sequentially on a single thread i.e. the `MainThread` and therefore took a lot of time for individually waiting for each process."
   ]
  },
  {
   "cell_type": "code",
   "execution_count": 54,
   "id": "d19ec751-cf5c-4d9a-85f3-3384aeb807db",
   "metadata": {
    "tags": []
   },
   "outputs": [
    {
     "data": {
      "text/plain": [
       "[<_MainThread(MainThread, started 10384)>,\n",
       " <Thread(IOPub, started daemon 1748)>,\n",
       " <Heartbeat(Heartbeat, started daemon 3780)>,\n",
       " <ControlThread(Control, started daemon 1992)>,\n",
       " <HistorySavingThread(IPythonHistorySavingThread, started 2888)>,\n",
       " <ParentPollerWindows(Thread-4, started daemon 1236)>,\n",
       " <Thread(Thread-15971 (eat_breakfast), started 28164)>,\n",
       " <Thread(Thread-15972 (drink_tea), started 3508)>,\n",
       " <Thread(Thread-15973 (check_emails), started 28188)>]"
      ]
     },
     "execution_count": 54,
     "metadata": {},
     "output_type": "execute_result"
    },
    {
     "name": "stdout",
     "output_type": "stream",
     "text": [
      "I am drinking tea.\n",
      "I am having breakfast.\n",
      "I am checking my emails.\n"
     ]
    }
   ],
   "source": [
    "# multithreading\n",
    "thread1 = threading.Thread(target=eat_breakfast)\n",
    "thread2 = threading.Thread(target=drink_tea)\n",
    "thread3 = threading.Thread(target=check_emails)\n",
    "\n",
    "thread1.start()\n",
    "thread2.start()\n",
    "thread3.start()\n",
    "threading.enumerate()"
   ]
  },
  {
   "cell_type": "markdown",
   "id": "7e0ec94b-28bf-459b-8e36-f78f640c0af7",
   "metadata": {},
   "source": [
    "**Note:** The above code took ~5.1 seconds to run. It used **multithreading** to concurrently run 3 functions. 3 threads were concurrently running each process, therefore the total time it took was equal to the highest time-taking process."
   ]
  },
  {
   "cell_type": "code",
   "execution_count": 57,
   "id": "2a7d7bbf-e618-4a69-bab8-487f599173b5",
   "metadata": {
    "tags": []
   },
   "outputs": [
    {
     "name": "stdout",
     "output_type": "stream",
     "text": [
      "I am drinking tea.\n",
      "I am having breakfast.\n"
     ]
    },
    {
     "data": {
      "text/plain": [
       "[<_MainThread(MainThread, started 10384)>,\n",
       " <Thread(IOPub, started daemon 1748)>,\n",
       " <Heartbeat(Heartbeat, started daemon 3780)>,\n",
       " <ControlThread(Control, started daemon 1992)>,\n",
       " <HistorySavingThread(IPythonHistorySavingThread, started 2888)>,\n",
       " <ParentPollerWindows(Thread-4, started daemon 1236)>,\n",
       " <Thread(Thread-15982 (check_emails), started 28816)>]"
      ]
     },
     "execution_count": 57,
     "metadata": {},
     "output_type": "execute_result"
    },
    {
     "name": "stdout",
     "output_type": "stream",
     "text": [
      "I am checking my emails.\n"
     ]
    }
   ],
   "source": [
    "# thread synchronisation\n",
    "thread1 = threading.Thread(target=eat_breakfast)\n",
    "thread2 = threading.Thread(target=drink_tea)\n",
    "thread3 = threading.Thread(target=check_emails)\n",
    "\n",
    "thread1.start()\n",
    "thread2.start()\n",
    "thread3.start()\n",
    "\n",
    "thread1.join()\n",
    "thread2.join()\n",
    "threading.enumerate()"
   ]
  },
  {
   "cell_type": "markdown",
   "id": "c5a12320-891f-42b2-9db6-44ea3f187d57",
   "metadata": {},
   "source": [
    "**Note:** In the above, we notice that the `MainThread` waits for `thread1` and `thread2` to be completed. By using this method, we can direct each thread and also the `MainThread`."
   ]
  },
  {
   "cell_type": "code",
   "execution_count": 4,
   "id": "1cf2073e-d887-467c-a1b1-285cccb44287",
   "metadata": {
    "tags": []
   },
   "outputs": [],
   "source": [
    "def timer():\n",
    "    count = 0\n",
    "    while True:\n",
    "        time.sleep(5)\n",
    "        count += 5\n",
    "        print(f\"Waiting for your input since {count} seconds.\")"
   ]
  },
  {
   "cell_type": "code",
   "execution_count": 5,
   "id": "6496ba68-4d9f-4da2-98d7-3b3812373427",
   "metadata": {
    "tags": []
   },
   "outputs": [
    {
     "name": "stdout",
     "output_type": "stream",
     "text": [
      "Waiting for your input since 5 seconds.\n",
      "Waiting for your input since 10 seconds.\n"
     ]
    },
    {
     "name": "stdin",
     "output_type": "stream",
     "text": [
      "Enter your name:  Danish Ahmed\n"
     ]
    },
    {
     "data": {
      "text/plain": [
       "'Danish Ahmed'"
      ]
     },
     "execution_count": 5,
     "metadata": {},
     "output_type": "execute_result"
    },
    {
     "name": "stdout",
     "output_type": "stream",
     "text": [
      "Waiting for your input since 15 seconds.\n"
     ]
    }
   ],
   "source": [
    "task1 = threading.Thread(target=timer, daemon=True)\n",
    "task1.start()\n",
    "\n",
    "input('Enter your name: ')"
   ]
  },
  {
   "cell_type": "markdown",
   "id": "42e8a049-4a18-4176-a049-951f15838376",
   "metadata": {
    "tags": []
   },
   "source": [
    "**Note:** The above is an example of `daemon threads`. They run in the background and are terminated when the main program exits. They are useful for tasks that don't need to complete before the program ends."
   ]
  },
  {
   "cell_type": "markdown",
   "id": "c0e7c320-b48c-4fe6-add4-3df38384ec5d",
   "metadata": {},
   "source": [
    "**Note:** Daemon threads don't seem to work in `.ipynb` notebooks."
   ]
  },
  {
   "cell_type": "markdown",
   "id": "a7605634-5423-473f-b2fe-6dddd8e9453e",
   "metadata": {},
   "source": [
    "### Multiprocessing"
   ]
  },
  {
   "cell_type": "code",
   "execution_count": 26,
   "id": "f3113f84-5cfd-4cf9-88e3-811eefea6a26",
   "metadata": {
    "tags": []
   },
   "outputs": [],
   "source": [
    "import multiprocessing\n",
    "import math"
   ]
  },
  {
   "cell_type": "code",
   "execution_count": 27,
   "id": "72908b13-850b-45a1-aceb-231707b0112d",
   "metadata": {
    "tags": []
   },
   "outputs": [
    {
     "data": {
      "text/plain": [
       "6"
      ]
     },
     "execution_count": 27,
     "metadata": {},
     "output_type": "execute_result"
    }
   ],
   "source": [
    "multiprocessing.cpu_count()"
   ]
  },
  {
   "cell_type": "code",
   "execution_count": 28,
   "id": "9db76951-5d49-4df4-8a8c-185326f22dcc",
   "metadata": {
    "tags": []
   },
   "outputs": [],
   "source": [
    "results_a = []\n",
    "results_b = []\n",
    "results_c = []"
   ]
  },
  {
   "cell_type": "code",
   "execution_count": 32,
   "id": "7eeee0c6-d839-4e94-ad7e-7b7dfa1af17e",
   "metadata": {
    "tags": []
   },
   "outputs": [],
   "source": [
    "def make_cal_one(numbers):\n",
    "    for number in numbers:\n",
    "        results_a.append(math.sqrt(number**3))"
   ]
  },
  {
   "cell_type": "code",
   "execution_count": 37,
   "id": "a4c16ace-03a2-4bee-bc49-97ce4da61d1c",
   "metadata": {
    "tags": []
   },
   "outputs": [],
   "source": [
    "def make_cal_two(numbers):\n",
    "    for number in numbers:\n",
    "        results_b.append(math.sqrt(number**4))"
   ]
  },
  {
   "cell_type": "code",
   "execution_count": 36,
   "id": "38ce7945-7d31-4051-af25-a23c7ac5764a",
   "metadata": {
    "tags": []
   },
   "outputs": [],
   "source": [
    "def make_cal_three(numbers):\n",
    "    for number in numbers:\n",
    "        results_c.append(math.sqrt(number**5))"
   ]
  },
  {
   "cell_type": "code",
   "execution_count": null,
   "id": "6d00851c-6fd5-40be-87a0-2f623486abba",
   "metadata": {
    "tags": []
   },
   "outputs": [],
   "source": [
    "if __name__ == '__main__':\n",
    "    number_list = list(range(60_000_000))\n",
    "    \n",
    "    p1 = multiprocessing.Process(target=make_cal_one, args=(number_list,))\n",
    "    p2 = multiprocessing.Process(target=make_cal_two, args=(number_list,))\n",
    "    p3 = multiprocessing.Process(target=make_cal_three, args=(number_list,))\n",
    "    \n",
    "    t1 = time.time()\n",
    "    p1.start()\n",
    "    p2.start()\n",
    "    p3.start()\n",
    "    t2 = time.time()\n",
    "    print(t2-t1)\n",
    "    \n",
    "    t1 = time.time()\n",
    "    make_cal_one(number_list)\n",
    "    make_cal_two(number_list)    \n",
    "    make_cal_three(number_list)\n",
    "    t2 = time.time()\n",
    "    print(t2-t1)"
   ]
  },
  {
   "cell_type": "code",
   "execution_count": null,
   "id": "42fbc2fd-7531-4154-a3e5-76415e30861f",
   "metadata": {},
   "outputs": [],
   "source": []
  }
 ],
 "metadata": {
  "kernelspec": {
   "display_name": "Python 3 (ipykernel)",
   "language": "python",
   "name": "python3"
  },
  "language_info": {
   "codemirror_mode": {
    "name": "ipython",
    "version": 3
   },
   "file_extension": ".py",
   "mimetype": "text/x-python",
   "name": "python",
   "nbconvert_exporter": "python",
   "pygments_lexer": "ipython3",
   "version": "3.11.5"
  }
 },
 "nbformat": 4,
 "nbformat_minor": 5
}
