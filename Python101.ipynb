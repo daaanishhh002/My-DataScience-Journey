{
 "cells": [
  {
   "cell_type": "markdown",
   "id": "5756c0ce-aa59-4a1b-920d-025bd75f6b4b",
   "metadata": {
    "jp-MarkdownHeadingCollapsed": true,
    "tags": []
   },
   "source": [
    "# Python\n",
    "**Python** is a high-level, versatile and popular programming language known for its simplicity and readability. Python was created in the late 1980s by Guido van Rossum, a Dutch programmer. It was developed as a successor to the ABC language and was designed with the goal of being a readable, easy-to-use language with a clear and straightforward syntax. Python's first official release, Python 0.9.0, was made available in February 1991. Over the years, it has evolved into a powerful and popular language."
   ]
  },
  {
   "cell_type": "markdown",
   "id": "c97be491-bf4d-47fe-815b-3930720822f0",
   "metadata": {},
   "source": [
    "---"
   ]
  },
  {
   "cell_type": "markdown",
   "id": "c64519c3-b8e0-4ab4-85a6-ad8d11dc57ef",
   "metadata": {},
   "source": [
    "**Features of Python:**\n",
    "\n",
    "1. **Readability:** Python's syntax is easy to read and write, making it accessible for beginners. It uses indentation to define code blocks, which enforces clean and consistent coding practices.\n",
    "\n",
    "2. **Versatility:** Python is a general-purpose language, suitable for a wide range of applications, from web development and data analysis to artificial intelligence and scientific computing.\n",
    "\n",
    "3. **Extensive Standard Library:** Python comes with a vast standard library that provides modules and functions for various tasks, reducing the need for writing code from scratch.\n",
    "\n",
    "4. **Interpreted Language:** Python is an interpreted language, which means you can run code line by line, making it great for prototyping and debugging.\n",
    "\n",
    "5. **Dynamic Typing:** Python is dynamically typed, which means you don't need to specify variable types explicitly. This enhances flexibility and simplifies coding.\n",
    "\n",
    "6. **Community Support:** Python has a large and active community, which means there are numerous resources, libraries, and frameworks available for developers.\n",
    "\n",
    "7. **High-level Language:** Python abstracts many low-level details, making it more accessible and reducing the time needed to develop applications."
   ]
  },
  {
   "cell_type": "markdown",
   "id": "3f331cf6-33e7-4766-a007-c2ba1967c278",
   "metadata": {},
   "source": [
    "**What Sets Python Apart:**\n",
    "\n",
    "1. **Readability and Minimalistic Syntax:** Python's code is highly readable, with an emphasis on simplicity and minimizing code verbosity. This sets it apart from languages with complex syntax.\n",
    "\n",
    "2. **Cross-Platform Compatibility:** Python is compatible with various platforms, which makes it a versatile choice for multi-platform development.\n",
    "\n",
    "3. **Extensive Ecosystem:** Python has a rich ecosystem of libraries and frameworks, particularly in the fields of data science and machine learning. Libraries like NumPy, Pandas, and TensorFlow are widely used."
   ]
  },
  {
   "cell_type": "markdown",
   "id": "620f8745-7436-4c58-84e4-a8d83bc3d487",
   "metadata": {},
   "source": [
    "**Applications of Python:**\n",
    "\n",
    "Python finds applications in a wide array of fields, aligning with your interests:\n",
    "\n",
    "1. **Web Development:** Frameworks like Django and Flask make it easy to build web applications.\n",
    "\n",
    "2. **Data Science:** Python is the go-to language for data analysis, with libraries such as Pandas, NumPy, and scikit-learn.\n",
    "\n",
    "3. **Machine Learning and AI:** Python offers powerful tools like TensorFlow, PyTorch, and scikit-learn for creating machine learning models.\n",
    "\n",
    "4. **Scientific Computing:** Python is widely used in scientific research, especially in fields like astronomy and biomedical sciences, thanks to libraries like SciPy.\n",
    "\n",
    "5. **Quantum Physics:** Python is used for simulating quantum systems and analyzing experimental data in quantum physics research.\n"
   ]
  },
  {
   "cell_type": "markdown",
   "id": "70c5c786-60e5-472b-8687-db506311e26c",
   "metadata": {},
   "source": [
    "---"
   ]
  },
  {
   "cell_type": "markdown",
   "id": "6d7c01ef-c380-4e0e-ae47-38bc82164763",
   "metadata": {
    "tags": []
   },
   "source": [
    "# Python I\n",
    "0. `\"hello, world\"`\n",
    "1. Variables and Data-Types\n",
    "2. Input and Output\n",
    "3. Operators\n",
    "4. Conditional Statements\n",
    "5. Loop Statements\n",
    "6. String Methods\n",
    "7. Functions I\n",
    "8. Advanced Data-Types"
   ]
  },
  {
   "cell_type": "code",
   "execution_count": 1,
   "id": "369c2c1b-6662-4873-8d53-134b97414bcd",
   "metadata": {
    "tags": []
   },
   "outputs": [
    {
     "name": "stdout",
     "output_type": "stream",
     "text": [
      "hello, world\n"
     ]
    }
   ],
   "source": [
    "print(\"hello, world\")"
   ]
  },
  {
   "cell_type": "code",
   "execution_count": 2,
   "id": "d0ec0af9-188c-4a4f-8b71-0d8fdf500cef",
   "metadata": {},
   "outputs": [
    {
     "name": "stdout",
     "output_type": "stream",
     "text": [
      "3.11.5 | packaged by Anaconda, Inc. | (main, Sep 11 2023, 13:26:23) [MSC v.1916 64 bit (AMD64)]\n"
     ]
    }
   ],
   "source": [
    "import sys\n",
    "print(sys.version)"
   ]
  },
  {
   "cell_type": "markdown",
   "id": "140e9f1a-e64c-432b-adfe-084ccc28154d",
   "metadata": {},
   "source": [
    "## Variables and Data-Types"
   ]
  },
  {
   "cell_type": "code",
   "execution_count": 3,
   "id": "3fe0dead-5fec-4d34-bcb5-2ae51e782db4",
   "metadata": {
    "tags": []
   },
   "outputs": [],
   "source": [
    "age = 21 # int\n",
    "temp_f = -32 # int\n",
    "\n",
    "weight = 63.5 # float\n",
    "mass_electron = 9.1093837e-31 # float\n",
    "\n",
    "company_name = 'ADNIA' # string\n",
    "sentence = \"The five boxing wizards jump quickly.\" # string\n",
    "\n",
    "# multiple assignment\n",
    "isAged, hasLegs = False, True # boolean"
   ]
  },
  {
   "cell_type": "code",
   "execution_count": 4,
   "id": "a91ac960-d4de-450a-9ffa-973ed4620849",
   "metadata": {
    "tags": []
   },
   "outputs": [
    {
     "data": {
      "text/plain": [
       "float"
      ]
     },
     "execution_count": 4,
     "metadata": {},
     "output_type": "execute_result"
    }
   ],
   "source": [
    "# we can check data-type of any object/variable using `type()`\n",
    "type(mass_electron)"
   ]
  },
  {
   "cell_type": "markdown",
   "id": "71a1b69e-5d90-4071-80c1-1970691a861c",
   "metadata": {},
   "source": [
    "**Note:** `None` is also a data-type in python that stores and returns None value i.e. **nothing**. It is similar to `void` keyword in many languages."
   ]
  },
  {
   "cell_type": "markdown",
   "id": "15e804ea-933b-4f82-a915-a2db704a6c9c",
   "metadata": {},
   "source": [
    "## Input and Output"
   ]
  },
  {
   "cell_type": "code",
   "execution_count": 5,
   "id": "e13f8578-7e9e-41de-a7f3-ab6c65a92570",
   "metadata": {
    "tags": []
   },
   "outputs": [
    {
     "name": "stdin",
     "output_type": "stream",
     "text": [
      "What is your name? Danish\n",
      "Where are you from? Hyderabad\n"
     ]
    },
    {
     "name": "stdout",
     "output_type": "stream",
     "text": [
      "Hello Danish from Hyderabad!\n"
     ]
    }
   ],
   "source": [
    "# taking input\n",
    "name = input(\"What is your name?\")\n",
    "city = input(\"Where are you from?\")\n",
    "\n",
    "# giving output\n",
    "print(f\"Hello {name} from {city}!\") # these are called f-strings"
   ]
  },
  {
   "cell_type": "markdown",
   "id": "a5d4e69f-c2f2-4f91-8a40-c773c340bbed",
   "metadata": {},
   "source": [
    "**Note:** There are 2 more methods in python to output data, but **f-strings** are by-far the best and most powerful implementation to do so."
   ]
  },
  {
   "cell_type": "markdown",
   "id": "49f86515-d8dc-4f23-aa47-650b53477470",
   "metadata": {},
   "source": [
    "## Operators"
   ]
  },
  {
   "cell_type": "code",
   "execution_count": 6,
   "id": "dcb9ef11-6ae8-4e3e-8887-df941a96e7b8",
   "metadata": {
    "tags": []
   },
   "outputs": [
    {
     "data": {
      "text/plain": [
       "1.2837837837837838"
      ]
     },
     "execution_count": 6,
     "metadata": {},
     "output_type": "execute_result"
    }
   ],
   "source": [
    "# arithmetic operators 1\n",
    "5+9 # add\n",
    "96-489 # subtract\n",
    "\n",
    "52*14 # multiply\n",
    "95/74 # divide"
   ]
  },
  {
   "cell_type": "code",
   "execution_count": 7,
   "id": "29379698-9ce0-4f12-a253-8bcc34ac9e23",
   "metadata": {
    "tags": []
   },
   "outputs": [
    {
     "data": {
      "text/plain": [
       "2"
      ]
     },
     "execution_count": 7,
     "metadata": {},
     "output_type": "execute_result"
    }
   ],
   "source": [
    "# arithmetic operators 2\n",
    "12**3 # power\n",
    "\n",
    "18%5 # modulo\n",
    "18//8 # quotient"
   ]
  },
  {
   "cell_type": "code",
   "execution_count": 8,
   "id": "0653b6b2-4f75-497c-afb4-49e2a54e9ddc",
   "metadata": {
    "tags": []
   },
   "outputs": [
    {
     "data": {
      "text/plain": [
       "102"
      ]
     },
     "execution_count": 8,
     "metadata": {},
     "output_type": "execute_result"
    }
   ],
   "source": [
    "# assignment operator\n",
    "iterator = 62\n",
    "iterator += 40\n",
    "iterator"
   ]
  },
  {
   "cell_type": "markdown",
   "id": "e03b5096-44a0-47e2-8561-879dcf747092",
   "metadata": {},
   "source": [
    "**Note:** Assignment operator isn't just limited to addition, it can do all the above arithmetic operations."
   ]
  },
  {
   "cell_type": "code",
   "execution_count": 9,
   "id": "bb8d0745-d436-4578-87da-6a8ce067ead4",
   "metadata": {
    "tags": []
   },
   "outputs": [
    {
     "data": {
      "text/plain": [
       "23"
      ]
     },
     "execution_count": 9,
     "metadata": {},
     "output_type": "execute_result"
    }
   ],
   "source": [
    "# bitwise operators\n",
    "52&12 # bitwise AND\n",
    "46|5 # bitwise OR\n",
    "~76 # bitwise NOT\n",
    "8^9 # bitwise XOR\n",
    "\n",
    "46<<1 # bitwise left-shift\n",
    "46>>1 # bitwise right-shift"
   ]
  },
  {
   "cell_type": "markdown",
   "id": "4d07482d-00bf-4c9a-ba9a-d625330d96c8",
   "metadata": {
    "tags": []
   },
   "source": [
    "**Note:** Other than this, we also have built-in functions which we can use to make our programs easier."
   ]
  },
  {
   "cell_type": "code",
   "execution_count": 10,
   "id": "9bc4a5e9-8bb7-4770-93ae-21f14032f707",
   "metadata": {
    "tags": []
   },
   "outputs": [
    {
     "data": {
      "text/plain": [
       "41"
      ]
     },
     "execution_count": 10,
     "metadata": {},
     "output_type": "execute_result"
    }
   ],
   "source": [
    "abs(-856)\n",
    "\n",
    "max(52,96,41,852,45,853)\n",
    "min(52,96,41,852,45,853)"
   ]
  },
  {
   "cell_type": "code",
   "execution_count": 11,
   "id": "b44ca4d7-2525-4655-8590-c85271971583",
   "metadata": {
    "tags": []
   },
   "outputs": [
    {
     "data": {
      "text/plain": [
       "4200.0"
      ]
     },
     "execution_count": 11,
     "metadata": {},
     "output_type": "execute_result"
    }
   ],
   "source": [
    "round(4165.528) # rounds to nearest decimal\n",
    "round(4165.528, 2) # rounds to 2nd decimal value\n",
    "round(4165.528, -2) # rounds to 100s place"
   ]
  },
  {
   "cell_type": "markdown",
   "id": "c330397a-cca8-475d-a213-34c228d243af",
   "metadata": {},
   "source": [
    "**Note:** We can also access functions in a module called `math` which houses many math related functions and values."
   ]
  },
  {
   "cell_type": "code",
   "execution_count": 12,
   "id": "987a7f03-8329-4dc2-905f-3a5427556f5b",
   "metadata": {
    "tags": []
   },
   "outputs": [
    {
     "name": "stdin",
     "output_type": "stream",
     "text": [
      "Enter length of side 'a':  6\n",
      "Enter length of side 'b':  4\n"
     ]
    },
    {
     "name": "stdout",
     "output_type": "stream",
     "text": [
      "7.21 is the length of the hypotenuse.\n"
     ]
    }
   ],
   "source": [
    "import math\n",
    "\n",
    "a = int(input(\"Enter length of side \\'a\\': \"))\n",
    "b = int(input(\"Enter length of side \\'b\\': \"))\n",
    "\n",
    "c = math.sqrt(pow(a,2)+pow(b,2))\n",
    "print(f\"{round(c,2)} is the length of the hypotenuse.\")"
   ]
  },
  {
   "cell_type": "markdown",
   "id": "62808406-eaf4-4524-9a11-6d8f219ed640",
   "metadata": {},
   "source": [
    "**Note:** **Type-casting** is the process through which we can convert a variable of a data-type into another data-type. In the above example we have explicitely type-casted the side length of triangle from `string` to `int` by calling `int()` method."
   ]
  },
  {
   "cell_type": "markdown",
   "id": "a8874f6e-cfb8-4aaa-8c38-3bb90ae8cfd2",
   "metadata": {},
   "source": [
    "**Exercise:** Find the distance and angle an arrow must be shot to hit bullseye as set by the user. Assume there is no gravity."
   ]
  },
  {
   "cell_type": "code",
   "execution_count": 13,
   "id": "25304c8c-7966-426c-b112-654ba304cb5a",
   "metadata": {
    "tags": []
   },
   "outputs": [
    {
     "name": "stdin",
     "output_type": "stream",
     "text": [
      "Enter X coordinate where you want the bullseye to be at:  2\n",
      "Enter Y coordinate where you want the bullseye to be at:  9\n"
     ]
    },
    {
     "name": "stdout",
     "output_type": "stream",
     "text": [
      "The arrow has to travel a distance of 9.22m in 77.47° direction.\n"
     ]
    }
   ],
   "source": [
    "x_coor = float(input(\"Enter X coordinate where you want the bullseye to be at: \"))\n",
    "y_coor = float(input(\"Enter Y coordinate where you want the bullseye to be at: \"))\n",
    "\n",
    "r = math.dist((x_coor,y_coor),(0,0))\n",
    "phi = math.atan((y_coor/x_coor))\n",
    "\n",
    "print(f\"The arrow has to travel a distance of {round(r,2)}m in {round(math.degrees(phi),2)}° direction.\")"
   ]
  },
  {
   "cell_type": "markdown",
   "id": "7a245d35-562a-4aa4-ba5b-75907d8669a8",
   "metadata": {},
   "source": [
    "## Selection Control Structure (Branching)"
   ]
  },
  {
   "cell_type": "code",
   "execution_count": 14,
   "id": "4774a4fe-b5a1-4cfc-81db-80e4837c32f6",
   "metadata": {},
   "outputs": [
    {
     "name": "stdin",
     "output_type": "stream",
     "text": [
      "Enter your yearly compensation:  5648854418\n"
     ]
    },
    {
     "name": "stdout",
     "output_type": "stream",
     "text": [
      "You have to pay 1,694,656,325.40 in taxes.\n"
     ]
    }
   ],
   "source": [
    "# if-elif-else statement\n",
    "yearly_compensation = int(input(\"Enter your yearly compensation: \"))\n",
    "\n",
    "if yearly_compensation > 1_500_000:\n",
    "    print(f\"You have to pay {yearly_compensation*0.3:,.2f} in taxes.\")\n",
    "elif yearly_compensation > 1_250_000:\n",
    "    print(f\"You have to pay {yearly_compensation*0.25:,.2f} in taxes.\")\n",
    "elif yearly_compensation > 1_000_000:\n",
    "    print(f\"You have to pay {yearly_compensation*0.2:,.2f} in taxes.\")\n",
    "elif yearly_compensation > 750_000:\n",
    "    print(f\"You have to pay {yearly_compensation*0.15:,.2f} in taxes.\")\n",
    "elif yearly_compensation > 500_000:\n",
    "    print(f\"You have to pay {yearly_compensation*0.1:,.2f} in taxes.\")\n",
    "elif yearly_compensation > 250_000:\n",
    "    print(f\"You have to pay {yearly_compensation*0.05:,.2f} in taxes.\")\n",
    "else:\n",
    "    print(f\"You have to pay {yearly_compensation:,.2f} in taxes.\")"
   ]
  },
  {
   "cell_type": "markdown",
   "id": "1d2592e1-534b-4a68-a0c5-3def0e0dee45",
   "metadata": {},
   "source": [
    "**Note:** An `if` statement when evalued to `True`, after completing the action breaks out of the current conditional block. But if there are multiple `if` statements, then the implementation doesn't break until after all the `if` statements are evaluated. The same doesn't apply to `elif` and `else`."
   ]
  },
  {
   "cell_type": "code",
   "execution_count": 15,
   "id": "dab2d338-5c1d-4882-ba9d-94be56522e29",
   "metadata": {
    "tags": []
   },
   "outputs": [
    {
     "name": "stdin",
     "output_type": "stream",
     "text": [
      "Enter your age:  21\n"
     ]
    },
    {
     "name": "stdout",
     "output_type": "stream",
     "text": [
      "You are permitted to drink.\n",
      "You are allowed to vote.\n"
     ]
    }
   ],
   "source": [
    "# multiple if statements\n",
    "age = int(input(\"Enter your age: \"))\n",
    "\n",
    "if age >= 60:\n",
    "    print(\"You are eligble for pension.\")\n",
    "if age >= 21:\n",
    "    print(\"You are permitted to drink.\")\n",
    "if age >= 18:\n",
    "    print(\"You are allowed to vote.\")\n",
    "else:\n",
    "    print(\"You can't do much, go and study.\")"
   ]
  },
  {
   "cell_type": "markdown",
   "id": "6c8e7b98-483d-4e75-804d-05ab87f1aebe",
   "metadata": {},
   "source": [
    "**Note:** We can use `pass` keyword as well when we don't want any action."
   ]
  },
  {
   "cell_type": "code",
   "execution_count": 16,
   "id": "623cae02-4cfa-4c37-8342-8222956e48fd",
   "metadata": {
    "tags": []
   },
   "outputs": [
    {
     "name": "stdin",
     "output_type": "stream",
     "text": [
      "Enter a number:  5\n",
      "Enter another number:  96\n",
      "Enter a symbol + - * / ** % //:  /\n"
     ]
    },
    {
     "name": "stdout",
     "output_type": "stream",
     "text": [
      "0.052083333333333336\n"
     ]
    }
   ],
   "source": [
    "# match case statement\n",
    "num1 = int(input(\"Enter a number: \"))\n",
    "num2 = int(input(\"Enter another number: \"))\n",
    "operator = input(\"Enter a symbol + - * / ** % //: \")\n",
    "\n",
    "match operator:\n",
    "    case '+': print(f\"{num1+num2}\")\n",
    "    case '-': print(f\"{num1-num2}\")    \n",
    "    case '*': print(f\"{num1*num2}\")    \n",
    "    case '/': print(f\"{num1/num2}\")\n",
    "    case '**': print(f\"{num1**num2}\")\n",
    "    case '%': print(f\"{num1%num2}\")    \n",
    "    case '//': print(f\"{num1//num2}\")    \n",
    "    case _: print(\"Invalid Operator!\") # this is the default case"
   ]
  },
  {
   "cell_type": "markdown",
   "id": "83c3c6cd-7b30-4dc9-891e-b7b3777a1337",
   "metadata": {},
   "source": [
    "**Exercise:** Write a program that checks if a given year is a leap year or not."
   ]
  },
  {
   "cell_type": "code",
   "execution_count": 17,
   "id": "f9e57ac7-3097-4f42-ba8f-1b6cf51283c6",
   "metadata": {
    "tags": []
   },
   "outputs": [
    {
     "name": "stdin",
     "output_type": "stream",
     "text": [
      "Enter year:  2004\n"
     ]
    },
    {
     "name": "stdout",
     "output_type": "stream",
     "text": [
      "2004 is a leap year.\n"
     ]
    }
   ],
   "source": [
    "year = int(input(\"Enter year: \"))\n",
    "\n",
    "if year%400==0:\n",
    "    print(f\"{year} is a leap year.\")\n",
    "else:\n",
    "    if year%4==0 and year%100!=0:\n",
    "        print(f\"{year} is a leap year.\")\n",
    "    else:\n",
    "        print(f\"{year} is not a leap year.\")"
   ]
  },
  {
   "cell_type": "markdown",
   "id": "403a3838-910e-4eb3-9db1-b404ab67ac0b",
   "metadata": {},
   "source": [
    "**Note:** Similarly we can use `or` and `not` statements as well to evaluate conditions."
   ]
  },
  {
   "cell_type": "markdown",
   "id": "4a7e0c47-5820-4453-af2f-093eb59e9da3",
   "metadata": {},
   "source": [
    "## Repetitive Control Structure (Looping)"
   ]
  },
  {
   "cell_type": "code",
   "execution_count": 18,
   "id": "664f84c7-df70-4a8d-b000-325a9fef2222",
   "metadata": {
    "tags": []
   },
   "outputs": [
    {
     "name": "stdin",
     "output_type": "stream",
     "text": [
      "Enter p to play or q to quit:  p\n"
     ]
    },
    {
     "name": "stdout",
     "output_type": "stream",
     "text": [
      "You are still in the game.\n"
     ]
    },
    {
     "name": "stdin",
     "output_type": "stream",
     "text": [
      "Enter p to play or q to quit:  p\n"
     ]
    },
    {
     "name": "stdout",
     "output_type": "stream",
     "text": [
      "You are still in the game.\n"
     ]
    },
    {
     "name": "stdin",
     "output_type": "stream",
     "text": [
      "Enter p to play or q to quit:  \n"
     ]
    },
    {
     "name": "stdout",
     "output_type": "stream",
     "text": [
      "You are still in the game.\n"
     ]
    },
    {
     "name": "stdin",
     "output_type": "stream",
     "text": [
      "Enter p to play or q to quit:  q\n"
     ]
    },
    {
     "name": "stdout",
     "output_type": "stream",
     "text": [
      "You have quit the game.\n"
     ]
    }
   ],
   "source": [
    "# while loop\n",
    "action = input(\"Enter p to play or q to quit: \")\n",
    "\n",
    "while action!='q':\n",
    "    print(\"You are still in the game.\")\n",
    "    action = input(\"Enter p to play or q to quit: \")\n",
    "\n",
    "print(\"You have quit the game.\")"
   ]
  },
  {
   "cell_type": "markdown",
   "id": "44caa312-8c59-40b7-b838-7ffc31a4bdf4",
   "metadata": {},
   "source": [
    "**Note:** The above is also called an **Infinite Loop** as is evaluates to `True` until provided otherwise."
   ]
  },
  {
   "cell_type": "code",
   "execution_count": 19,
   "id": "68d34101-4c3e-49cd-92e4-8d438988a61d",
   "metadata": {
    "tags": []
   },
   "outputs": [
    {
     "name": "stdout",
     "output_type": "stream",
     "text": [
      "5 4 3 2 1 0 a l p h a - g o "
     ]
    }
   ],
   "source": [
    "# for loop\n",
    "for i in reversed(range(6)):\n",
    "    print(i, end=' ')\n",
    "\n",
    "for i in \"alpha-go\":\n",
    "    print(i, end=' ')"
   ]
  },
  {
   "cell_type": "code",
   "execution_count": 20,
   "id": "47d21003-820a-422a-86c4-0289a91ea87d",
   "metadata": {
    "tags": []
   },
   "outputs": [
    {
     "name": "stdout",
     "output_type": "stream",
     "text": [
      "1 3 4 helo 6 7 "
     ]
    }
   ],
   "source": [
    "# break, pass and continue keywords\n",
    "\n",
    "for i in range(1,11):\n",
    "    if i == 2:\n",
    "        continue # skips over 2\n",
    "    elif i == 5:\n",
    "        pass # doesn't do anything because pass keyword is as good as None\n",
    "        print('helo', end=' ')\n",
    "    elif i == 8:\n",
    "        break # exits the loop when evaluated True\n",
    "    else:\n",
    "        print(i, end=' ')"
   ]
  },
  {
   "cell_type": "markdown",
   "id": "66022cfe-0f36-464e-b38d-5376df75f1bf",
   "metadata": {},
   "source": [
    "**Exercise:** Check if a number is prime or not."
   ]
  },
  {
   "cell_type": "code",
   "execution_count": 21,
   "id": "ee78aa8d-c9a1-46f2-97ae-7dd5642474d5",
   "metadata": {
    "tags": []
   },
   "outputs": [
    {
     "name": "stdin",
     "output_type": "stream",
     "text": [
      "Enter number:  554\n"
     ]
    },
    {
     "name": "stdout",
     "output_type": "stream",
     "text": [
      "3\n",
      "number is prime\n"
     ]
    }
   ],
   "source": [
    "import math\n",
    "num = int(input(\"Enter number: \"))\n",
    "\n",
    "for i in range(3,int(num/2)):\n",
    "    print(i)\n",
    "    if num%i!=0:\n",
    "        print(\"number is prime\")\n",
    "        break\n",
    "    else:\n",
    "        print(\"number not prime\")\n",
    "        continue"
   ]
  },
  {
   "cell_type": "markdown",
   "id": "eb37bfb3-ccb0-41f6-a8aa-f470f571eabf",
   "metadata": {},
   "source": [
    "## String Methods"
   ]
  },
  {
   "cell_type": "code",
   "execution_count": 22,
   "id": "49c82232-0aab-4571-a4e2-ed91ffea2203",
   "metadata": {},
   "outputs": [],
   "source": [
    "sentence = \"The quick brown fox jumps over the lazy dog 452 698\""
   ]
  },
  {
   "cell_type": "code",
   "execution_count": 23,
   "id": "b2e3d116-b242-4e10-9053-fed67758f343",
   "metadata": {
    "tags": []
   },
   "outputs": [],
   "source": [
    "len(sentence) # returns length of string\n",
    "sentence.find('o') # returns index of 1st occurance\n",
    "sentence.count('o')\n",
    "sentence.title()\n",
    "sentence.split('e')\n",
    "sentence = sentence.replace(' ', '')"
   ]
  },
  {
   "cell_type": "code",
   "execution_count": 24,
   "id": "43ef308e-6644-4fe2-8621-19a05c931539",
   "metadata": {
    "tags": []
   },
   "outputs": [
    {
     "data": {
      "text/plain": [
       "True"
      ]
     },
     "execution_count": 24,
     "metadata": {},
     "output_type": "execute_result"
    }
   ],
   "source": [
    "sentence.isalnum()\n",
    "sentence.isascii()"
   ]
  },
  {
   "cell_type": "markdown",
   "id": "6f135364-1c16-4581-90a4-89b2d4246f65",
   "metadata": {},
   "source": [
    "**Exercise:** Write a program to check validity and strength of password."
   ]
  },
  {
   "cell_type": "code",
   "execution_count": 25,
   "id": "c2ffa259-0608-4f02-ba38-39ffd9c50749",
   "metadata": {
    "tags": []
   },
   "outputs": [
    {
     "name": "stdin",
     "output_type": "stream",
     "text": [
      "Enter password:  19oct2019jn\n"
     ]
    },
    {
     "name": "stdout",
     "output_type": "stream",
     "text": [
      "Valid password\n"
     ]
    }
   ],
   "source": [
    "password = input(\"Enter password: \")\n",
    "\n",
    "if len(password)>=8 and len(password)<=20:\n",
    "    if password.isalnum():\n",
    "        print(\"Valid password\")\n",
    "    else:\n",
    "        print(\"Invalid password\")\n",
    "else:\n",
    "    print(\"Invalid password\")"
   ]
  },
  {
   "cell_type": "markdown",
   "id": "7549b64b-f618-47fc-a287-5ba5d5851770",
   "metadata": {
    "tags": []
   },
   "source": [
    "### String Indexing"
   ]
  },
  {
   "cell_type": "code",
   "execution_count": 26,
   "id": "725a8bad-be77-4ee7-b18a-567adcda0409",
   "metadata": {
    "tags": []
   },
   "outputs": [
    {
     "data": {
      "text/plain": [
       "'Thequickbrownfoxjumpsoverthelazydog452698'"
      ]
     },
     "execution_count": 26,
     "metadata": {},
     "output_type": "execute_result"
    }
   ],
   "source": [
    "sentence"
   ]
  },
  {
   "cell_type": "code",
   "execution_count": 27,
   "id": "0fa163ff-88df-4460-ae44-8bb708ec2f2f",
   "metadata": {
    "tags": []
   },
   "outputs": [
    {
     "data": {
      "text/plain": [
       "'g'"
      ]
     },
     "execution_count": 27,
     "metadata": {},
     "output_type": "execute_result"
    }
   ],
   "source": [
    "# indexing\n",
    "sentence[10]\n",
    "sentence[-7]"
   ]
  },
  {
   "cell_type": "code",
   "execution_count": 28,
   "id": "9fd4fdca-6eb7-4704-8777-56698b7bc7ac",
   "metadata": {},
   "outputs": [
    {
     "data": {
      "text/plain": [
       "'ickbrownfoxjumpsoverthelazydog452698'"
      ]
     },
     "execution_count": 28,
     "metadata": {},
     "output_type": "execute_result"
    }
   ],
   "source": [
    "# slicing 1\n",
    "sentence[:6]\n",
    "sentence[5:]"
   ]
  },
  {
   "cell_type": "code",
   "execution_count": 29,
   "id": "4f4ea880-b7ad-49ee-a39e-2640263ca2d5",
   "metadata": {
    "tags": []
   },
   "outputs": [
    {
     "data": {
      "text/plain": [
       "'eibwousehad'"
      ]
     },
     "execution_count": 29,
     "metadata": {},
     "output_type": "execute_result"
    }
   ],
   "source": [
    "# slicing 2\n",
    "sentence[::2]\n",
    "sentence[::-1]\n",
    "\n",
    "sentence[2:35:3]"
   ]
  },
  {
   "cell_type": "markdown",
   "id": "6f877e08-895e-4a06-84d5-240f095affdb",
   "metadata": {},
   "source": [
    "**Exercise:** Return the username and email provider of user after they enter their Email ID."
   ]
  },
  {
   "cell_type": "code",
   "execution_count": 30,
   "id": "18a151fe-3e06-412e-ba22-83dbe27d5010",
   "metadata": {
    "tags": []
   },
   "outputs": [
    {
     "name": "stdin",
     "output_type": "stream",
     "text": [
      "Enter your email:  danish454ahmed@gmail.com\n"
     ]
    },
    {
     "name": "stdout",
     "output_type": "stream",
     "text": [
      "danish454ahmed is your username and gmail is your email provider.\n"
     ]
    }
   ],
   "source": [
    "email_id = input(\"Enter your email: \")\n",
    "\n",
    "index = email_id.index('@')\n",
    "username = email_id[:index]\n",
    "domain = email_id[index+1:email_id.index('.')]\n",
    "\n",
    "print(f\"{username} is your username and {domain} is your email provider.\")"
   ]
  },
  {
   "cell_type": "markdown",
   "id": "042811cf-69d5-46d1-b759-1d30517b0c41",
   "metadata": {},
   "source": [
    "**Exercise:** Write a program that validates credit card number."
   ]
  },
  {
   "cell_type": "code",
   "execution_count": 31,
   "id": "f962a212-5c8b-4e20-83d2-4786b4687aee",
   "metadata": {
    "tags": []
   },
   "outputs": [
    {
     "name": "stdin",
     "output_type": "stream",
     "text": [
      "Enter credit card number:  534848415418451\n"
     ]
    },
    {
     "name": "stdout",
     "output_type": "stream",
     "text": [
      "It is not a valid credit card number.\n"
     ]
    }
   ],
   "source": [
    "cc_number = input(\"Enter credit card number: \")\n",
    "sum_odd_dig, sum_even_dig = 0,0\n",
    "\n",
    "cc_number = cc_number.replace(' ', '')\n",
    "cc_number = cc_number.replace('-', '')\n",
    "cc_number = cc_number[::-1]\n",
    "\n",
    "for i in cc_number[::2]:\n",
    "    sum_odd_dig += int(i)\n",
    "\n",
    "for i in cc_number[1::2]:\n",
    "    i = int(i) * 2\n",
    "    if i>=10:\n",
    "        sum_even_dig += (1+(i%10))\n",
    "    else:\n",
    "        sum_even_dig += i\n",
    "\n",
    "total = sum_even_dig + sum_odd_dig\n",
    "\n",
    "if total%10==0:\n",
    "    print(\"It is a valid credit card number.\")\n",
    "else:\n",
    "    print(\"It is not a valid credit card number.\")    "
   ]
  },
  {
   "cell_type": "markdown",
   "id": "8c5122ef-ee57-4746-8555-ce83b05f6a92",
   "metadata": {},
   "source": [
    "Test with 4012888888881881 and 5105105105105100"
   ]
  },
  {
   "cell_type": "markdown",
   "id": "795f8873-2414-4b37-974b-4fa723cd218d",
   "metadata": {
    "tags": []
   },
   "source": [
    "### Format Specifiers"
   ]
  },
  {
   "cell_type": "code",
   "execution_count": 32,
   "id": "e011f19c-1ef0-47d2-9985-050a4e0d9304",
   "metadata": {
    "tags": []
   },
   "outputs": [],
   "source": [
    "price1 = 14565200.985\n",
    "price2 = -526.56235879\n",
    "price3 = 729.41"
   ]
  },
  {
   "cell_type": "code",
   "execution_count": 33,
   "id": "1004ae0d-f1a8-4e90-98ad-4cb5da7f5f87",
   "metadata": {
    "tags": []
   },
   "outputs": [
    {
     "name": "stdout",
     "output_type": "stream",
     "text": [
      "Price is د. ع 14,565,200.985\n",
      "Price is د. ع-526.56\n",
      "Price is د. ع 729.41\n"
     ]
    }
   ],
   "source": [
    "print(f\"Price is د. ع{price1: ,}\") # thousands separator\n",
    "print(f\"Price is د. ع{price2: .2f}\") # decimal limiter\n",
    "print(f\"Price is د. ع{price3: }\") # leaves space for sign"
   ]
  },
  {
   "cell_type": "markdown",
   "id": "35cf2732-ba77-43cc-bf11-04b377b0f658",
   "metadata": {},
   "source": [
    "## Functions I"
   ]
  },
  {
   "cell_type": "code",
   "execution_count": 34,
   "id": "84c54c38-4885-4c8c-8099-e1ac34cd86e5",
   "metadata": {
    "tags": []
   },
   "outputs": [],
   "source": [
    "def greet_ntimes(n):\n",
    "    for i in range(n):\n",
    "        print(\"G'Mornin\")"
   ]
  },
  {
   "cell_type": "code",
   "execution_count": 35,
   "id": "611b358e-4dd9-4789-af99-9c2aa42d2bc5",
   "metadata": {
    "tags": []
   },
   "outputs": [
    {
     "name": "stdout",
     "output_type": "stream",
     "text": [
      "G'Mornin\n",
      "G'Mornin\n",
      "G'Mornin\n"
     ]
    }
   ],
   "source": [
    "greet_ntimes(3)"
   ]
  },
  {
   "cell_type": "markdown",
   "id": "d2e9678f-663c-4742-ae4c-4ab4a664b1cf",
   "metadata": {},
   "source": [
    "**Exercise:** Write a program that returns the factorial of a given number."
   ]
  },
  {
   "cell_type": "code",
   "execution_count": 36,
   "id": "584a1cbf-fbbe-4e1b-bfbf-22493dd708a7",
   "metadata": {
    "tags": []
   },
   "outputs": [],
   "source": [
    "def factorial(n):\n",
    "    total = 1\n",
    "    for i in range(2,n+1):\n",
    "        total *= i\n",
    "    \n",
    "    return total"
   ]
  },
  {
   "cell_type": "code",
   "execution_count": 37,
   "id": "8521268b-cfe3-4b5a-85d5-bd991fc37f7d",
   "metadata": {
    "tags": []
   },
   "outputs": [
    {
     "data": {
      "text/plain": [
       "3628800"
      ]
     },
     "execution_count": 37,
     "metadata": {},
     "output_type": "execute_result"
    }
   ],
   "source": [
    "factorial(10)"
   ]
  },
  {
   "cell_type": "code",
   "execution_count": 38,
   "id": "f2901e97-3482-4b2f-a4bd-1e7f1b5e1e32",
   "metadata": {
    "tags": []
   },
   "outputs": [],
   "source": [
    "# positional arguments\n",
    "def net_price(list_price, discnt, tax):\n",
    "    return list_price * (1-discnt) * (1+tax)"
   ]
  },
  {
   "cell_type": "code",
   "execution_count": 39,
   "id": "58e7b876-9802-4695-aaaa-c47c13c4b79b",
   "metadata": {
    "tags": []
   },
   "outputs": [
    {
     "data": {
      "text/plain": [
       "1383.7499999999998"
      ]
     },
     "execution_count": 39,
     "metadata": {},
     "output_type": "execute_result"
    }
   ],
   "source": [
    "net_price(1500, 0.1, 0.025)"
   ]
  },
  {
   "cell_type": "code",
   "execution_count": 40,
   "id": "425c4462-b092-476a-8028-8af8fab26e9a",
   "metadata": {
    "tags": []
   },
   "outputs": [],
   "source": [
    "# default arguments\n",
    "def net_price(list_price, discnt=0.0, tax=0.025):\n",
    "    return list_price * (1-discnt) * (1+tax)"
   ]
  },
  {
   "cell_type": "markdown",
   "id": "a3cf080f-f806-4a13-8b27-c0f3edabc8cd",
   "metadata": {},
   "source": [
    "**Note:** Default arguments should always succeed non-default arguments."
   ]
  },
  {
   "cell_type": "code",
   "execution_count": 41,
   "id": "e1ec9579-4c12-4f66-866a-3e71a80bf55c",
   "metadata": {
    "tags": []
   },
   "outputs": [
    {
     "data": {
      "text/plain": [
       "512.5"
      ]
     },
     "execution_count": 41,
     "metadata": {},
     "output_type": "execute_result"
    }
   ],
   "source": [
    "net_price(500)"
   ]
  },
  {
   "cell_type": "code",
   "execution_count": 42,
   "id": "b78be0f9-9998-4835-addb-af46cd89ff9e",
   "metadata": {
    "tags": []
   },
   "outputs": [
    {
     "data": {
      "text/plain": [
       "450.0"
      ]
     },
     "execution_count": 42,
     "metadata": {},
     "output_type": "execute_result"
    }
   ],
   "source": [
    "net_price(500, 0.1, 0.0)"
   ]
  },
  {
   "cell_type": "code",
   "execution_count": 43,
   "id": "a14f2fd9-e5b8-4331-9ce8-24cbfe61e9fc",
   "metadata": {
    "tags": []
   },
   "outputs": [],
   "source": [
    "# keyword arguments\n",
    "def roll_no(college_code, batch, branch_code, uni_id):\n",
    "    print(f\"{college_code}-{batch}-{branch_code}-{uni_id}\")"
   ]
  },
  {
   "cell_type": "code",
   "execution_count": 44,
   "id": "61015d7b-da8d-44da-b2a6-4b724061d47e",
   "metadata": {
    "tags": []
   },
   "outputs": [
    {
     "name": "stdout",
     "output_type": "stream",
     "text": [
      "1604-21-735-65\n"
     ]
    }
   ],
   "source": [
    "roll_no(batch=21, uni_id=65, college_code=1604, branch_code=735)"
   ]
  },
  {
   "cell_type": "code",
   "execution_count": 45,
   "id": "2f4ca677-b631-457a-bfb5-63a61468bc41",
   "metadata": {
    "tags": []
   },
   "outputs": [],
   "source": [
    "# arbitrary arguments\n",
    "def display_name(*args):\n",
    "    for arg in args:\n",
    "        print(arg, end=' ')"
   ]
  },
  {
   "cell_type": "code",
   "execution_count": 46,
   "id": "c78fb998-598e-467a-97d8-8eb5c0ec1759",
   "metadata": {
    "tags": []
   },
   "outputs": [
    {
     "name": "stdout",
     "output_type": "stream",
     "text": [
      "Dr. Prof. Danish Ahmed I "
     ]
    }
   ],
   "source": [
    "display_name('Dr.', 'Prof.', 'Danish', 'Ahmed', 'I')"
   ]
  },
  {
   "cell_type": "markdown",
   "id": "0353f19a-c2d3-48ec-bb57-de343b806e64",
   "metadata": {},
   "source": [
    "**Note:** `*args` allows us to pass in multiple arguments."
   ]
  },
  {
   "cell_type": "code",
   "execution_count": 47,
   "id": "6e849edd-18f6-4563-97e4-4389b7196ad3",
   "metadata": {
    "tags": []
   },
   "outputs": [],
   "source": [
    "# keyword arguments\n",
    "def address(**kwargs):\n",
    "    for key, value in kwargs.items():\n",
    "        print(f\"{key}: {value}\")"
   ]
  },
  {
   "cell_type": "code",
   "execution_count": 48,
   "id": "f6cf45a9-5fab-4839-bb80-4b137ec18ecb",
   "metadata": {
    "tags": []
   },
   "outputs": [
    {
     "name": "stdout",
     "output_type": "stream",
     "text": [
      "street: gudimalkapur\n",
      "area: mehdipatnam\n",
      "pincode: 500028\n",
      "city: hyderabad\n",
      "state: telangana\n"
     ]
    }
   ],
   "source": [
    "address(street='gudimalkapur', area=\"mehdipatnam\", pincode=500028, city='hyderabad', state='telangana')"
   ]
  },
  {
   "cell_type": "markdown",
   "id": "8d70e18b-f978-4426-bd04-ac14fab94720",
   "metadata": {},
   "source": [
    "**Exercise:** Create a shopping label for Amazon"
   ]
  },
  {
   "cell_type": "code",
   "execution_count": 49,
   "id": "22640d36-102b-496b-abb6-48556e93141b",
   "metadata": {
    "tags": []
   },
   "outputs": [],
   "source": [
    "def shipping_label(*args, **kwargs):\n",
    "    for arg in args:\n",
    "        print(arg, end=' ')\n",
    "    print()\n",
    "    print(f\"+91{kwargs.get('phone_no')}\")\n",
    "    print(f\"{kwargs.get('house_no')} {kwargs.get('colony')}\")\n",
    "    print(f\"{kwargs.get('locality')}\")\n",
    "    print(f\"{kwargs.get('area')} {kwargs.get('pincode')}\")\n",
    "    print(f\"{kwargs.get('city')}\")\n",
    "    print(f\"{kwargs.get('state')}\")\n",
    "    print(f\"{kwargs.get('country')}\")"
   ]
  },
  {
   "cell_type": "code",
   "execution_count": 50,
   "id": "a640e0ff-b4c5-473a-ab07-54dbce95a3ba",
   "metadata": {
    "tags": []
   },
   "outputs": [
    {
     "name": "stdout",
     "output_type": "stream",
     "text": [
      "Dr. Prof. Danish Ahmed I \n",
      "+919059119507\n",
      "12-2-417/46/1/b sharda nagar\n",
      "guddimalkapur\n",
      "mehdipatnam 500028\n",
      "hyderabad\n",
      "telangana\n",
      "india\n"
     ]
    }
   ],
   "source": [
    "shipping_label('Dr.', 'Prof.', 'Danish', 'Ahmed', 'I',\n",
    "              phone_no=9059119507, house_no='12-2-417/46/1/b',colony='sharda nagar',\n",
    "              locality='guddimalkapur', area='mehdipatnam',\n",
    "              pincode=500028, city='hyderabad', state='telangana',\n",
    "              country='india')"
   ]
  },
  {
   "cell_type": "markdown",
   "id": "bc92eba6-3028-42c7-9f23-aa346d758b18",
   "metadata": {},
   "source": [
    "**Note:** Variable Scope Resolution\n",
    "> Local\n",
    ">> Enclosed\n",
    ">>> Global\n",
    ">>>> Built-In"
   ]
  },
  {
   "cell_type": "markdown",
   "id": "ab8a9b9c-cc58-4806-bf23-c6817fdaf536",
   "metadata": {},
   "source": [
    "## Advanced Data-Types"
   ]
  },
  {
   "cell_type": "markdown",
   "id": "573bb642-69b2-4744-b5e4-cc620a85eaf3",
   "metadata": {},
   "source": [
    "### List"
   ]
  },
  {
   "cell_type": "code",
   "execution_count": 51,
   "id": "2bb813af-a0ec-4e5c-87a7-dba44580deae",
   "metadata": {
    "tags": []
   },
   "outputs": [],
   "source": [
    "fruits = ['apple','banana','orange','strawberry','mango']"
   ]
  },
  {
   "cell_type": "code",
   "execution_count": 52,
   "id": "1b1ce478-f0a0-4932-8ddc-64d1697b7b02",
   "metadata": {
    "tags": []
   },
   "outputs": [],
   "source": [
    "vegetables = ['potato','tomato']"
   ]
  },
  {
   "cell_type": "code",
   "execution_count": 53,
   "id": "7b81fa71-7a3f-49c9-899c-5d353396defc",
   "metadata": {
    "tags": []
   },
   "outputs": [
    {
     "data": {
      "text/plain": [
       "['mango', 'orange', 'apple']"
      ]
     },
     "execution_count": 53,
     "metadata": {},
     "output_type": "execute_result"
    }
   ],
   "source": [
    "# indexing\n",
    "fruits[4]\n",
    "fruits[-2]\n",
    "\n",
    "# slicing\n",
    "fruits[2:4]\n",
    "fruits[::-2]"
   ]
  },
  {
   "cell_type": "code",
   "execution_count": 54,
   "id": "dfbe020d-1542-443d-b355-a275c4335ed5",
   "metadata": {
    "tags": []
   },
   "outputs": [],
   "source": [
    "len(fruits)\n",
    "fruits.index('orange')\n",
    "fruits.count('potato')\n",
    "\n",
    "fruits.pop() # removes last element in list (LIFO)\n",
    "fruits.remove('apple') \n",
    "\n",
    "fruits.append('cherry')\n",
    "fruits.insert(2, 'avocado')\n",
    "fruits.extend(vegetables) # appends a list to parent list"
   ]
  },
  {
   "cell_type": "code",
   "execution_count": 55,
   "id": "2536505b-6034-4e08-b0c4-d88882dfb717",
   "metadata": {
    "tags": []
   },
   "outputs": [
    {
     "data": {
      "text/plain": [
       "['banana', 'orange', 'avocado', 'strawberry', 'cherry', 'potato', 'tomato']"
      ]
     },
     "execution_count": 55,
     "metadata": {},
     "output_type": "execute_result"
    }
   ],
   "source": [
    "fruits"
   ]
  },
  {
   "cell_type": "code",
   "execution_count": 56,
   "id": "a44d962c-9cb4-42d5-8d61-684ed36f8c84",
   "metadata": {
    "tags": []
   },
   "outputs": [
    {
     "name": "stdout",
     "output_type": "stream",
     "text": [
      "1 banana\n",
      "2 orange\n",
      "3 avocado\n",
      "4 strawberry\n",
      "5 cherry\n",
      "6 potato\n",
      "7 tomato\n"
     ]
    }
   ],
   "source": [
    "for i, fruit in enumerate(fruits):\n",
    "    print(i+1, fruit)"
   ]
  },
  {
   "cell_type": "code",
   "execution_count": 57,
   "id": "fe55be03-2f60-4413-974d-de8dd7cadb10",
   "metadata": {
    "tags": []
   },
   "outputs": [
    {
     "data": {
      "text/plain": [
       "False"
      ]
     },
     "execution_count": 57,
     "metadata": {},
     "output_type": "execute_result"
    }
   ],
   "source": [
    "'pineapple' in fruits"
   ]
  },
  {
   "cell_type": "code",
   "execution_count": 58,
   "id": "39a16255-9590-48f1-9a6e-28152c546dcb",
   "metadata": {
    "tags": []
   },
   "outputs": [
    {
     "data": {
      "text/plain": [
       "[['fish', 'chicken', 'beef', 'mutton'],\n",
       " ['milk', 'curd', 'malai', 'butter'],\n",
       " ['potatoes', 'tomatoes', 'onions', 'chillies']]"
      ]
     },
     "execution_count": 58,
     "metadata": {},
     "output_type": "execute_result"
    }
   ],
   "source": [
    "# 2d list\n",
    "meats = ['fish','chicken','beef','mutton']\n",
    "dairy = ['milk','curd','malai','butter']\n",
    "market = ['potatoes','tomatoes','onions','chillies']\n",
    "\n",
    "groceries = [meats, dairy, market]\n",
    "groceries"
   ]
  },
  {
   "cell_type": "markdown",
   "id": "60a9130e-4ae3-4fd8-ba63-4fa9dfff2143",
   "metadata": {},
   "source": [
    "**Exercise:** Write a program that prints the bill of a shopping cart."
   ]
  },
  {
   "cell_type": "code",
   "execution_count": 59,
   "id": "f150bc7c-7d6c-45bf-aa7f-43c89c063905",
   "metadata": {
    "tags": []
   },
   "outputs": [
    {
     "name": "stdin",
     "output_type": "stream",
     "text": [
      "Enter name of product or q to quit:  chocolate\n",
      "Enter price of product:  150\n",
      "Enter name of product or q to quit:  oil\n",
      "Enter price of product:  230\n",
      "Enter name of product or q to quit:  apple\n",
      "Enter price of product:  2\n",
      "Enter name of product or q to quit:  noods\n",
      "Enter price of product:  80\n",
      "Enter name of product or q to quit:  q\n"
     ]
    },
    {
     "name": "stdout",
     "output_type": "stream",
     "text": [
      "1 chocolate            150.0\n",
      "2 oil                  230.0\n",
      "3 apple                2.0\n",
      "4 noods                80.0\n",
      "Total: 462.0\n"
     ]
    }
   ],
   "source": [
    "foods = []\n",
    "prices = []\n",
    "total = 0\n",
    "\n",
    "while True:\n",
    "    food = input(\"Enter name of product or q to quit: \")\n",
    "    if food.casefold() == 'q':\n",
    "        break\n",
    "    else:\n",
    "        foods.append(food)\n",
    "        price = float(input(\"Enter price of product: \"))\n",
    "        prices.append(price)\n",
    "\n",
    "for price in prices:\n",
    "    total += price\n",
    "\n",
    "for i,food in enumerate(foods):\n",
    "    print(f\"{i+1} {food:20} {prices[i]}\")\n",
    "\n",
    "print(f\"Total: {total}\")"
   ]
  },
  {
   "cell_type": "code",
   "execution_count": 60,
   "id": "1e874512-6efa-46c1-8e35-56aa553ad5dd",
   "metadata": {
    "tags": []
   },
   "outputs": [
    {
     "data": {
      "text/plain": [
       "[0, 1, 8, 27, 64, 125, 216, 343, 512, 729, 1000]"
      ]
     },
     "execution_count": 60,
     "metadata": {},
     "output_type": "execute_result"
    }
   ],
   "source": [
    "# list comprehension 1\n",
    "cubes = [i**3 for i in range(11)]\n",
    "cubes"
   ]
  },
  {
   "cell_type": "code",
   "execution_count": 61,
   "id": "c68c1b1b-74f9-4593-8073-541ee2eafbe9",
   "metadata": {
    "tags": []
   },
   "outputs": [
    {
     "data": {
      "text/plain": [
       "[0, 8, 64, 216, 512, 1000]"
      ]
     },
     "execution_count": 61,
     "metadata": {},
     "output_type": "execute_result"
    }
   ],
   "source": [
    "# list comprehension 2\n",
    "cubes = [i**3 for i in range(11) if i%2==0]\n",
    "cubes"
   ]
  },
  {
   "cell_type": "code",
   "execution_count": 62,
   "id": "895eb288-5dd8-4fab-a6ab-239a77a0ebd4",
   "metadata": {
    "tags": []
   },
   "outputs": [
    {
     "data": {
      "text/plain": [
       "[0, 1, 8, 9, 64, 25, 216, 49, 512, 81, 1000]"
      ]
     },
     "execution_count": 62,
     "metadata": {},
     "output_type": "execute_result"
    }
   ],
   "source": [
    "# list comprehension 3\n",
    "cubes = [i**3 if i%2==0 else i**2 for i in range(11)]\n",
    "cubes"
   ]
  },
  {
   "cell_type": "markdown",
   "id": "f49a1d49-9dd8-42a4-9c3f-30a53e5e19e8",
   "metadata": {},
   "source": [
    "### Set"
   ]
  },
  {
   "cell_type": "code",
   "execution_count": 63,
   "id": "776b1248-9516-4a3f-a691-2c5bdc007aef",
   "metadata": {
    "tags": []
   },
   "outputs": [],
   "source": [
    "fruits = {'apple','banana','orange','strawberry','mango','kiwi', 'apple'} # set assures unique values only"
   ]
  },
  {
   "cell_type": "code",
   "execution_count": 64,
   "id": "87328cf3-a465-4ae6-aa37-826bb6278525",
   "metadata": {
    "tags": []
   },
   "outputs": [],
   "source": [
    "frootz = {'apple', 'mango', 'cherry'}"
   ]
  },
  {
   "cell_type": "code",
   "execution_count": 66,
   "id": "b6aa26c0-f3ac-4f98-982b-cd0ea958de5a",
   "metadata": {
    "tags": []
   },
   "outputs": [
    {
     "data": {
      "text/plain": [
       "False"
      ]
     },
     "execution_count": 66,
     "metadata": {},
     "output_type": "execute_result"
    }
   ],
   "source": [
    "len(fruits)\n",
    "fruits.add('pineapple') # adds in an alphabetical order\n",
    "fruits.pop() \n",
    "fruits.remove('orange')\n",
    "\n",
    "# mathematical set operations\n",
    "fruits.intersection(frootz)\n",
    "fruits.union(frootz)\n",
    "fruits.issubset(frootz)"
   ]
  },
  {
   "cell_type": "code",
   "execution_count": 67,
   "id": "75dec43c-4c37-490d-b10a-d1898300bb70",
   "metadata": {
    "tags": []
   },
   "outputs": [
    {
     "name": "stdout",
     "output_type": "stream",
     "text": [
      "mango\n",
      "banana\n",
      "pineapple\n",
      "apple\n"
     ]
    }
   ],
   "source": [
    "for fruit in fruits:\n",
    "    print(fruit)"
   ]
  },
  {
   "cell_type": "code",
   "execution_count": 68,
   "id": "895a9cb3-9ac9-4ffc-9d1a-3ef528852973",
   "metadata": {
    "tags": []
   },
   "outputs": [
    {
     "data": {
      "text/plain": [
       "True"
      ]
     },
     "execution_count": 68,
     "metadata": {},
     "output_type": "execute_result"
    }
   ],
   "source": [
    "'apple' in fruits"
   ]
  },
  {
   "cell_type": "markdown",
   "id": "9606d473-7232-437e-84b9-e8496b010618",
   "metadata": {},
   "source": [
    "### Tuple"
   ]
  },
  {
   "cell_type": "code",
   "execution_count": 69,
   "id": "7a380d3e-6ee8-476a-8179-6100393ee777",
   "metadata": {
    "tags": []
   },
   "outputs": [],
   "source": [
    "fruits = ('apple','banana','orange','strawberry','mango','kiwi')"
   ]
  },
  {
   "cell_type": "code",
   "execution_count": 70,
   "id": "8bfbe474-a0cb-48b3-bb9f-d39a2c9a422b",
   "metadata": {
    "tags": []
   },
   "outputs": [
    {
     "data": {
      "text/plain": [
       "1"
      ]
     },
     "execution_count": 70,
     "metadata": {},
     "output_type": "execute_result"
    }
   ],
   "source": [
    "fruits.index('apple')\n",
    "fruits.count('kiwi')"
   ]
  },
  {
   "cell_type": "code",
   "execution_count": 71,
   "id": "1a306eb9-dba1-48e1-b869-d532473f84b9",
   "metadata": {
    "tags": []
   },
   "outputs": [
    {
     "name": "stdout",
     "output_type": "stream",
     "text": [
      "apple\n",
      "banana\n",
      "orange\n",
      "strawberry\n",
      "mango\n",
      "kiwi\n"
     ]
    }
   ],
   "source": [
    "for fruit in fruits:\n",
    "    print(fruit)"
   ]
  },
  {
   "cell_type": "code",
   "execution_count": 72,
   "id": "f1967038-4aa0-4d8c-a042-b8aecc3ef0d3",
   "metadata": {
    "tags": []
   },
   "outputs": [
    {
     "data": {
      "text/plain": [
       "True"
      ]
     },
     "execution_count": 72,
     "metadata": {},
     "output_type": "execute_result"
    }
   ],
   "source": [
    "'orange' in fruits"
   ]
  },
  {
   "cell_type": "markdown",
   "id": "70ae9e14-9c71-4bed-a543-574831f1be54",
   "metadata": {},
   "source": [
    "### Dictionary"
   ]
  },
  {
   "cell_type": "code",
   "execution_count": 73,
   "id": "8aebf89e-52be-4e7c-b463-4daed5efe4f9",
   "metadata": {
    "tags": []
   },
   "outputs": [],
   "source": [
    "capitals = {'USA':'Washington DC','India':'New Delhi','Russia':'Moscow','Saudi Arabia':'Riyadh'}"
   ]
  },
  {
   "cell_type": "code",
   "execution_count": 74,
   "id": "78b7b4a8-b008-44bd-bd82-9609ea054cd2",
   "metadata": {
    "tags": []
   },
   "outputs": [
    {
     "data": {
      "text/plain": [
       "('Saudi Arabia', 'Riyadh')"
      ]
     },
     "execution_count": 74,
     "metadata": {},
     "output_type": "execute_result"
    }
   ],
   "source": [
    "len(capitals)\n",
    "\n",
    "capitals.get('USA') # retrieves value from key\n",
    "capitals.keys()\n",
    "capitals.update({'India':'Hyderabad'}) # can also add new elements\n",
    "\n",
    "capitals.pop('Russia') # removes value through key\n",
    "capitals.popitem() # removes last item (LIFO)"
   ]
  },
  {
   "cell_type": "code",
   "execution_count": 75,
   "id": "260fb2d6-8727-43c4-8e4c-7c5e73315028",
   "metadata": {
    "tags": []
   },
   "outputs": [
    {
     "data": {
      "text/plain": [
       "{'USA': 'Washington DC', 'India': 'Hyderabad'}"
      ]
     },
     "execution_count": 75,
     "metadata": {},
     "output_type": "execute_result"
    }
   ],
   "source": [
    "capitals"
   ]
  },
  {
   "cell_type": "code",
   "execution_count": 76,
   "id": "7a76c146-c27d-4317-a9d2-6c6ba330ed88",
   "metadata": {
    "tags": []
   },
   "outputs": [
    {
     "name": "stdout",
     "output_type": "stream",
     "text": [
      "USA: Washington DC\n",
      "India: Hyderabad\n"
     ]
    }
   ],
   "source": [
    "for key, value in capitals.items():\n",
    "    print(f\"{key}: {value}\")"
   ]
  },
  {
   "cell_type": "code",
   "execution_count": 77,
   "id": "6b27cb77-d7c1-4ede-9552-524cfc8ddc62",
   "metadata": {
    "tags": []
   },
   "outputs": [
    {
     "data": {
      "text/plain": [
       "{'Riyadh': 113, 'Moscow': 43, 'Chicago': 52, 'India': 86}"
      ]
     },
     "execution_count": 77,
     "metadata": {},
     "output_type": "execute_result"
    }
   ],
   "source": [
    "# dictionary comprehension 1\n",
    "temp_C = {'Riyadh':45,'Moscow':6,'Chicago':11,'India':30}\n",
    "temp_F = {key: round(value*(9/5)+32) for key,value in temp_C.items()}\n",
    "temp_F"
   ]
  },
  {
   "cell_type": "code",
   "execution_count": 78,
   "id": "54db9a33-5231-45be-859d-422549366fa3",
   "metadata": {
    "tags": []
   },
   "outputs": [
    {
     "data": {
      "text/plain": [
       "{'Riyadh': 'Warm', 'Moscow': 'Cool', 'Chicago': 'Cool', 'India': 'Warm'}"
      ]
     },
     "execution_count": 78,
     "metadata": {},
     "output_type": "execute_result"
    }
   ],
   "source": [
    "# dictionary comprehension 2\n",
    "weather = {key: ('Warm' if value>=30 else 'Cool') for key,value in temp_C.items()}\n",
    "weather"
   ]
  },
  {
   "cell_type": "code",
   "execution_count": 79,
   "id": "1ae9efd0-b371-4a5d-b8ec-9235d6544358",
   "metadata": {
    "tags": []
   },
   "outputs": [],
   "source": [
    "def check_temp(value):\n",
    "    if value>35:\n",
    "        return \"Hot\"\n",
    "    elif value>25:\n",
    "        return \"Warm\"\n",
    "    elif value>10:\n",
    "        return \"Cold\"\n",
    "    else:\n",
    "        return \"Very Cold\""
   ]
  },
  {
   "cell_type": "code",
   "execution_count": 80,
   "id": "cf249aa5-a0df-46ca-a805-b83d9343ae54",
   "metadata": {
    "tags": []
   },
   "outputs": [
    {
     "data": {
      "text/plain": [
       "{'Riyadh': 'Hot', 'Moscow': 'Very Cold', 'Chicago': 'Cold', 'India': 'Warm'}"
      ]
     },
     "execution_count": 80,
     "metadata": {},
     "output_type": "execute_result"
    }
   ],
   "source": [
    "# dictionary comprehension 3\n",
    "weather_detailed = {key: check_temp(value) for key,value in temp_C.items()}\n",
    "weather_detailed"
   ]
  },
  {
   "cell_type": "code",
   "execution_count": null,
   "id": "fa459bb5-6bf3-4e0c-b9ce-a52a5ce40bd7",
   "metadata": {},
   "outputs": [],
   "source": []
  }
 ],
 "metadata": {
  "kernelspec": {
   "display_name": "Python 3 (ipykernel)",
   "language": "python",
   "name": "python3"
  },
  "language_info": {
   "codemirror_mode": {
    "name": "ipython",
    "version": 3
   },
   "file_extension": ".py",
   "mimetype": "text/x-python",
   "name": "python",
   "nbconvert_exporter": "python",
   "pygments_lexer": "ipython3",
   "version": "3.11.5"
  }
 },
 "nbformat": 4,
 "nbformat_minor": 5
}
