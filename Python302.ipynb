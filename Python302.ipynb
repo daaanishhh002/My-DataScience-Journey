{
 "cells": [
  {
   "cell_type": "markdown",
   "id": "8fdf41c6-6c9f-47b5-88b4-41d7ca1dbec6",
   "metadata": {
    "tags": []
   },
   "source": [
    "# NumPy\n",
    "\n",
    "NumPy is the fundamental package for scientific computing in Python. It is a Python library that provides a multidimensional array object, various derived objects (such as masked arrays and matrices), and an assortment of routines for fast operations on arrays, including mathematical, logical, shape manipulation, sorting, selecting, I/O, discrete Fourier transforms, basic linear algebra, basic statistical operations, random simulation and much more. At the core of the NumPy package, is the ndarray object. This encapsulates n-dimensional arrays of homogeneous data types"
   ]
  },
  {
   "cell_type": "markdown",
   "id": "e815c190-5c44-462c-a68b-95c4848bb637",
   "metadata": {},
   "source": [
    "## NumPy Arrays vs Python Sequences\n",
    "\n",
    "- NumPy arrays have a fixed size at creation, unlike Python lists (which can grow dynamically). Changing the size of an ndarray will create a new array and delete the original.\n",
    "- The elements in a NumPy array are all required to be of the same data type, and thus will be the same size in memory.\n",
    "- NumPy arrays facilitate advanced mathematical and other types of operations on large numbers of data. Typically, such operations are executed more efficiently and with less code than is possible using Python’s built-in sequences.\n",
    "- A growing plethora of scientific and mathematical Python-based packages are using NumPy arrays; though these typically support Python-sequence input, they convert such input to NumPy arrays prior to processing, and they often output NumPy arrays.\n",
    "\n",
    "---"
   ]
  },
  {
   "cell_type": "code",
   "execution_count": 1,
   "id": "ba6db8d8-a939-4c5d-8452-f61c35f399b2",
   "metadata": {
    "tags": []
   },
   "outputs": [
    {
     "name": "stdout",
     "output_type": "stream",
     "text": [
      "Requirement already satisfied: numpy in c:\\users\\ahmed\\anaconda3\\lib\\site-packages (1.24.3)\n"
     ]
    }
   ],
   "source": [
    "!pip install numpy"
   ]
  },
  {
   "cell_type": "code",
   "execution_count": 2,
   "id": "1938b22b-f2c9-440a-92c9-416ea8d2c8aa",
   "metadata": {
    "tags": []
   },
   "outputs": [
    {
     "data": {
      "text/plain": [
       "'1.24.3'"
      ]
     },
     "execution_count": 2,
     "metadata": {},
     "output_type": "execute_result"
    }
   ],
   "source": [
    "import numpy as np\n",
    "np.__version__"
   ]
  },
  {
   "cell_type": "markdown",
   "id": "a260c31b-69ff-4e51-b633-3bf63d5da9da",
   "metadata": {},
   "source": [
    "# NumPy for Data Science and Machine Learning\n",
    "\n",
    "0. Scalars\n",
    "1. `np.random` module\n",
    "1. Vectors \n",
    "2. Matrices \n",
    "3. 3-D Arrays and above"
   ]
  },
  {
   "cell_type": "markdown",
   "id": "73f4cb2a-d01f-4e93-b7bd-5afd481a5e41",
   "metadata": {
    "tags": []
   },
   "source": [
    "## Scalars, the 0-D Arrays"
   ]
  },
  {
   "cell_type": "code",
   "execution_count": 3,
   "id": "23c6dd13-154a-4361-ac4f-24f2c72c52f9",
   "metadata": {
    "tags": []
   },
   "outputs": [],
   "source": [
    "# creating a scalar\n",
    "a = np.array(69)"
   ]
  },
  {
   "cell_type": "code",
   "execution_count": 31,
   "id": "3d5bf3f2-411c-4630-98c4-a3a60d2be739",
   "metadata": {
    "tags": []
   },
   "outputs": [
    {
     "data": {
      "text/plain": [
       "4"
      ]
     },
     "execution_count": 31,
     "metadata": {},
     "output_type": "execute_result"
    }
   ],
   "source": [
    "# attributes\n",
    "a.ndim # returns no. of dimensions of array\n",
    "a.shape # returns shape of array\n",
    "a.size # returns size of array\n",
    "a.dtype # returns data-type of array\n",
    "\n",
    "a.nbytes # returns size of array\n",
    "a.itemsize # returns byte size of individual elements"
   ]
  },
  {
   "cell_type": "markdown",
   "id": "c6454589-0240-4324-aff3-da955dd21910",
   "metadata": {
    "tags": []
   },
   "source": [
    "## `np.random` Module"
   ]
  },
  {
   "cell_type": "code",
   "execution_count": 3,
   "id": "dfbf89a6-e6fc-4442-ab6d-0843b9972a24",
   "metadata": {
    "tags": []
   },
   "outputs": [],
   "source": [
    "# setting up of random number generator\n",
    "rng = np.random.default_rng(seed=7)"
   ]
  },
  {
   "cell_type": "markdown",
   "id": "dbe7d861-9001-4a11-b424-b191e031f27e",
   "metadata": {},
   "source": [
    "**Note:** The above is a newer interface to generate random numbers."
   ]
  },
  {
   "cell_type": "code",
   "execution_count": 10,
   "id": "93c87dc3-f0b4-4dc0-831d-53abbeb92ec2",
   "metadata": {
    "tags": []
   },
   "outputs": [
    {
     "data": {
      "text/plain": [
       "array([ 1.35882342, -1.54714468,  0.85938269])"
      ]
     },
     "execution_count": 10,
     "metadata": {},
     "output_type": "execute_result"
    }
   ],
   "source": [
    "# uniform disc. dist.\n",
    "rng.integers(1940, 2012, 7, endpoint=True)\n",
    "\n",
    "# uniform cont. dist. 1\n",
    "rng.random(5)\n",
    "\n",
    "# uniform cont. dist. 2\n",
    "rng.uniform(12,24,8)\n",
    "\n",
    "# gaussian dist.\n",
    "rng.standard_normal(3)"
   ]
  },
  {
   "cell_type": "code",
   "execution_count": 24,
   "id": "4d421dfa-6b0d-401b-a255-98f26a327f8b",
   "metadata": {
    "tags": []
   },
   "outputs": [
    {
     "data": {
      "text/plain": [
       "array([36, 74, 15, 56, 55, 98, 12])"
      ]
     },
     "execution_count": 24,
     "metadata": {},
     "output_type": "execute_result"
    }
   ],
   "source": [
    "# chooses n elements from array without replacement\n",
    "rng.choice(np.array([15,36,98,12,56,74,55]), \n",
    "           5, replace=False)\n",
    "\n",
    "# returns shuffled array\n",
    "arr = np.array([15,36,98,12,56,74,55])\n",
    "rng.shuffle(arr)\n",
    "arr"
   ]
  },
  {
   "cell_type": "markdown",
   "id": "1d82dfb8-9a07-4472-834b-d16500090594",
   "metadata": {},
   "source": [
    "## Vectors, the 1-D Arrays"
   ]
  },
  {
   "cell_type": "markdown",
   "id": "bf1013ef-f7ec-478e-a383-efa1c8784c43",
   "metadata": {},
   "source": [
    "### Creation"
   ]
  },
  {
   "cell_type": "code",
   "execution_count": 43,
   "id": "97aefb0d-7bd5-436b-b0a0-08e5aede3538",
   "metadata": {
    "tags": []
   },
   "outputs": [
    {
     "data": {
      "text/plain": [
       "array([ 4,  9,  6,  3, 58,  5,  9, 12,  0, 96, 15, 33])"
      ]
     },
     "execution_count": 43,
     "metadata": {},
     "output_type": "execute_result"
    }
   ],
   "source": [
    "# vector creation 1\n",
    "arr = np.array([4,9,6,3,58,5,9,12,0,96,15,33])\n",
    "arr"
   ]
  },
  {
   "cell_type": "code",
   "execution_count": 44,
   "id": "a3d82a3d-15b5-413d-92f2-ea5cb172abe2",
   "metadata": {
    "tags": []
   },
   "outputs": [
    {
     "data": {
      "text/plain": [
       "array([1., 1., 1., 1., 1., 1., 1., 1., 1., 1.])"
      ]
     },
     "execution_count": 44,
     "metadata": {},
     "output_type": "execute_result"
    }
   ],
   "source": [
    "# vector creation 2\n",
    "np.zeros(6)\n",
    "np.ones(10)"
   ]
  },
  {
   "cell_type": "code",
   "execution_count": 45,
   "id": "799f6b07-af92-4eb9-a5cd-d7e78c4507b7",
   "metadata": {
    "tags": []
   },
   "outputs": [
    {
     "data": {
      "text/plain": [
       "array([1.25197752e-312, 1.37929726e-312, 1.50661701e-312, 1.63393676e-312])"
      ]
     },
     "execution_count": 45,
     "metadata": {},
     "output_type": "execute_result"
    }
   ],
   "source": [
    "# vector creation 3\n",
    "np.full(5,3.141528)\n",
    "np.empty(4)"
   ]
  },
  {
   "cell_type": "code",
   "execution_count": 42,
   "id": "e50a44fa-5151-405b-877b-3f3df34729eb",
   "metadata": {
    "tags": []
   },
   "outputs": [
    {
     "data": {
      "text/plain": [
       "array([15.        , 15.71428571, 16.42857143, 17.14285714, 17.85714286,\n",
       "       18.57142857, 19.28571429, 20.        , 20.71428571, 21.42857143,\n",
       "       22.14285714, 22.85714286, 23.57142857, 24.28571429, 25.        ,\n",
       "       25.71428571, 26.42857143, 27.14285714, 27.85714286, 28.57142857,\n",
       "       29.28571429, 30.        , 30.71428571, 31.42857143, 32.14285714,\n",
       "       32.85714286, 33.57142857, 34.28571429, 35.        , 35.71428571,\n",
       "       36.42857143, 37.14285714, 37.85714286, 38.57142857, 39.28571429,\n",
       "       40.        , 40.71428571, 41.42857143, 42.14285714, 42.85714286,\n",
       "       43.57142857, 44.28571429, 45.        , 45.71428571, 46.42857143,\n",
       "       47.14285714, 47.85714286, 48.57142857, 49.28571429, 50.        ])"
      ]
     },
     "execution_count": 42,
     "metadata": {},
     "output_type": "execute_result"
    }
   ],
   "source": [
    "# vector creation 4\n",
    "np.arange(56,79,3)\n",
    "np.linspace(15,50,50)"
   ]
  },
  {
   "cell_type": "code",
   "execution_count": 49,
   "id": "c145ff5b-2782-42e9-b044-df4aa37aa02b",
   "metadata": {
    "tags": []
   },
   "outputs": [
    {
     "data": {
      "text/plain": [
       "array([ 99.48809587,  92.06703597,  93.739269  ,  87.22274848,\n",
       "       112.57069314,  98.45912427, 109.65921619, 100.13324597,\n",
       "        93.05596472])"
      ]
     },
     "execution_count": 49,
     "metadata": {},
     "output_type": "execute_result"
    }
   ],
   "source": [
    "# vector creation 5\n",
    "rng.normal(100,10,9) # like mentioned in the previous topic, we can use many random methods to fill arrays"
   ]
  },
  {
   "cell_type": "markdown",
   "id": "5a8a6cfb-c6ee-4e07-beaa-7e4b24659d01",
   "metadata": {},
   "source": [
    "**Note:** All above methods create an `ndarray` of 1 dimension and varying shape according to the user instructions."
   ]
  },
  {
   "cell_type": "markdown",
   "id": "ba85d126-b77f-4ff1-aef9-a539a5b0f23d",
   "metadata": {},
   "source": [
    "**Note:** Many methods mentioned above have a `_like` counterpart that can be used to create an `ndarray` using the size of another array."
   ]
  },
  {
   "cell_type": "markdown",
   "id": "d74bcd94-b6a0-46c3-a260-ea432caa092c",
   "metadata": {},
   "source": [
    "### Indexing, Slicing and Masking"
   ]
  },
  {
   "cell_type": "code",
   "execution_count": 22,
   "id": "e3c6eabc-6014-48be-9b40-b901d954edbf",
   "metadata": {
    "tags": []
   },
   "outputs": [
    {
     "data": {
      "text/plain": [
       "array([10, 17, 24, 31, 38, 45, 52, 59, 66, 73, 80, 87, 94])"
      ]
     },
     "execution_count": 22,
     "metadata": {},
     "output_type": "execute_result"
    }
   ],
   "source": [
    "arr1 = np.arange(10,100,7)\n",
    "arr1"
   ]
  },
  {
   "cell_type": "code",
   "execution_count": 71,
   "id": "f31291a6-c3b7-45c8-9da1-0b6d251afdcf",
   "metadata": {
    "tags": []
   },
   "outputs": [
    {
     "data": {
      "text/plain": [
       "array([17, 45, 31, 73, 94, 94])"
      ]
     },
     "execution_count": 71,
     "metadata": {},
     "output_type": "execute_result"
    }
   ],
   "source": [
    "# indexing\n",
    "arr1[5]\n",
    "arr1[-6]\n",
    "\n",
    "# fancy indexing\n",
    "arr1[[1,5,3,9,12,-1]]"
   ]
  },
  {
   "cell_type": "code",
   "execution_count": 79,
   "id": "d994a87a-af89-4c99-be25-bd7a65ea2262",
   "metadata": {
    "tags": []
   },
   "outputs": [
    {
     "data": {
      "text/plain": [
       "array([94, 73, 52, 31, 10])"
      ]
     },
     "execution_count": 79,
     "metadata": {},
     "output_type": "execute_result"
    }
   ],
   "source": [
    "# slicing\n",
    "arr1[2:]\n",
    "arr1[:-3]\n",
    "arr1[::-3]"
   ]
  },
  {
   "cell_type": "code",
   "execution_count": 84,
   "id": "e87a600a-7a94-474a-8c4b-2b9a5d2816e2",
   "metadata": {
    "tags": []
   },
   "outputs": [
    {
     "data": {
      "text/plain": [
       "True"
      ]
     },
     "execution_count": 84,
     "metadata": {},
     "output_type": "execute_result"
    }
   ],
   "source": [
    "# boolean indexing 1\n",
    "arr1[arr1%3==0]\n",
    "\n",
    "np.any(arr1>51)\n",
    "np.all(arr1<100)"
   ]
  },
  {
   "cell_type": "code",
   "execution_count": 5,
   "id": "bf85005e-7629-4c05-850d-34ecdbb8b6d7",
   "metadata": {
    "tags": []
   },
   "outputs": [
    {
     "data": {
      "text/plain": [
       "array([ 0,  0, 24, 31, 38, 45, 52, 59, 66, 73, 80,  0,  0])"
      ]
     },
     "execution_count": 5,
     "metadata": {},
     "output_type": "execute_result"
    }
   ],
   "source": [
    "# boolean indexing 2\n",
    "mask = (arr1>80) | (arr1<20)\n",
    "arr1[mask] = 0\n",
    "arr1"
   ]
  },
  {
   "cell_type": "code",
   "execution_count": 32,
   "id": "0e56bd3f-9f7e-4fbd-b20d-871bbc2154dc",
   "metadata": {},
   "outputs": [
    {
     "data": {
      "text/plain": [
       "(array([ 6,  7,  8,  9, 10, 11, 12], dtype=int64),)"
      ]
     },
     "execution_count": 32,
     "metadata": {},
     "output_type": "execute_result"
    }
   ],
   "source": [
    "np.nonzero(arr1) # returns index of non-zero values\n",
    "np.where(arr1>50) # returns index of condtion"
   ]
  },
  {
   "cell_type": "code",
   "execution_count": 24,
   "id": "9f1eba77-4ca0-4326-bff6-d9f571a633a0",
   "metadata": {
    "tags": []
   },
   "outputs": [
    {
     "data": {
      "text/plain": [
       "array([0, 0, 1, 0, 0, 1, 0, 0, 1, 0, 0, 1, 0])"
      ]
     },
     "execution_count": 24,
     "metadata": {},
     "output_type": "execute_result"
    }
   ],
   "source": [
    "# returns array based on condition and if True/False does something\n",
    "np.where(arr1%3==0, 1, 0)"
   ]
  },
  {
   "cell_type": "code",
   "execution_count": 31,
   "id": "56bf6615-c837-4cba-9bae-7d2f38f2992e",
   "metadata": {
    "tags": []
   },
   "outputs": [
    {
     "data": {
      "text/plain": [
       "array([30, 30, 30, 31, 38, 45, 52, 59, 60, 60, 60, 60, 60])"
      ]
     },
     "execution_count": 31,
     "metadata": {},
     "output_type": "execute_result"
    }
   ],
   "source": [
    "# sets lower thresh for below lower thresh and higher thresh for above higher thresh\n",
    "np.clip(arr1,30,60)"
   ]
  },
  {
   "cell_type": "markdown",
   "id": "8e74e774-acd3-4306-bd07-1ea80cbaf92e",
   "metadata": {},
   "source": [
    "**Note:** **NumPy** supports one-sided clipping as well, which we can access using `np.maximum()` and `np.minimum()`."
   ]
  },
  {
   "cell_type": "markdown",
   "id": "579a5282-93a9-4d97-946f-b9b84275dcc1",
   "metadata": {},
   "source": [
    "### Operations"
   ]
  },
  {
   "cell_type": "code",
   "execution_count": 38,
   "id": "080cebad-4aff-4da6-b5d3-5102f7f1ff2e",
   "metadata": {},
   "outputs": [],
   "source": [
    "arr1 = rng.integers(-30,30,15)\n",
    "arr2 = rng.integers(-100,100,15)\n",
    "arr3 = rng.integers(50,150,10)"
   ]
  },
  {
   "cell_type": "code",
   "execution_count": 41,
   "id": "4f5e2e36-8aa5-4f60-90a7-10fc3b540d1a",
   "metadata": {
    "tags": []
   },
   "outputs": [
    {
     "name": "stdout",
     "output_type": "stream",
     "text": [
      "[-15  29  -4  -2   0   4   3   0  29  18  17  12   7 -10  29]\n",
      "[ -7 -57  69 -68  71  22 -78 -92 -12 -93 -72   2  94  -7  61]\n",
      "[141 132 112  94 101  76  99  87  74 149]\n"
     ]
    }
   ],
   "source": [
    "print(arr1, arr2, arr3, sep='\\n')"
   ]
  },
  {
   "cell_type": "code",
   "execution_count": 47,
   "id": "79e9f7b3-15fe-4938-b10f-0446c2b59388",
   "metadata": {},
   "outputs": [
    {
     "data": {
      "text/plain": [
       "array([ 2.14285714, -0.50877193, -0.05797101,  0.02941176,  0.        ,\n",
       "        0.18181818, -0.03846154, -0.        , -2.41666667, -0.19354839,\n",
       "       -0.23611111,  6.        ,  0.07446809,  1.42857143,  0.47540984])"
      ]
     },
     "execution_count": 47,
     "metadata": {},
     "output_type": "execute_result"
    }
   ],
   "source": [
    "# arithmetic operations 1\n",
    "arr1+arr2\n",
    "arr1-arr2\n",
    "arr1*arr2\n",
    "arr1/arr2"
   ]
  },
  {
   "cell_type": "code",
   "execution_count": 52,
   "id": "9551060c-2d7f-48cd-bf37-0856f08b5154",
   "metadata": {},
   "outputs": [
    {
     "data": {
      "text/plain": [
       "array([ 2, -1, -1,  0,  0,  0, -1,  0, -3, -1, -1,  6,  0,  1,  0],\n",
       "      dtype=int64)"
      ]
     },
     "execution_count": 52,
     "metadata": {},
     "output_type": "execute_result"
    }
   ],
   "source": [
    "# arithmetic operations 2\n",
    "# arr1**arr2\n",
    "arr1%arr2\n",
    "arr1//arr2"
   ]
  },
  {
   "cell_type": "code",
   "execution_count": 57,
   "id": "1b491eac-f20f-4b0c-aff6-e7bbba2fb7d7",
   "metadata": {},
   "outputs": [
    {
     "data": {
      "text/plain": [
       "array([19881, 17424, 12544,  8836, 10201,  5776,  9801,  7569,  5476,\n",
       "       22201], dtype=int64)"
      ]
     },
     "execution_count": 57,
     "metadata": {},
     "output_type": "execute_result"
    }
   ],
   "source": [
    "# scalar arithmetic\n",
    "arr3+10\n",
    "arr3*20\n",
    "arr3%2\n",
    "arr3**2"
   ]
  },
  {
   "cell_type": "markdown",
   "id": "6987c561-e806-43be-90ca-ff0a6b6e19fd",
   "metadata": {},
   "source": [
    "**Note:** **NumPy** makes use of the concept of **braodcasting** i.e. promotes a scalar to the size of the array or it could be said as element-wise operations with a scalar."
   ]
  },
  {
   "cell_type": "code",
   "execution_count": 59,
   "id": "8c534a29-f8aa-4543-ae51-a0b90b3c2fdf",
   "metadata": {
    "tags": []
   },
   "outputs": [
    {
     "data": {
      "text/plain": [
       "array([11.87434209, 11.48912529, 10.58300524,  9.69535971, 10.04987562,\n",
       "        8.71779789,  9.94987437,  9.32737905,  8.60232527, 12.20655562])"
      ]
     },
     "execution_count": 59,
     "metadata": {},
     "output_type": "execute_result"
    }
   ],
   "source": [
    "# make use of numpy functions\n",
    "np.log10(arr3)\n",
    "np.sqrt(arr3)"
   ]
  },
  {
   "cell_type": "code",
   "execution_count": 66,
   "id": "8c7aedaa-beab-48d9-814d-f690c623a55c",
   "metadata": {
    "tags": []
   },
   "outputs": [
    {
     "data": {
      "text/plain": [
       "-2559"
      ]
     },
     "execution_count": 66,
     "metadata": {},
     "output_type": "execute_result"
    }
   ],
   "source": [
    "# both are methods to calculate dot product\n",
    "np.dot(arr1, arr2)\n",
    "arr1@arr2"
   ]
  },
  {
   "cell_type": "markdown",
   "id": "ee1f8077-05bc-4d4d-9d94-9e795a5a6237",
   "metadata": {
    "tags": []
   },
   "source": [
    "**Note:** `np.sum(arr1*arr2)` is also another way to calculate dot product."
   ]
  },
  {
   "cell_type": "code",
   "execution_count": 78,
   "id": "060a9879-2fd1-48db-aa52-1c574647b9b6",
   "metadata": {
    "tags": []
   },
   "outputs": [
    {
     "data": {
      "text/plain": [
       "array([0, 0, 6])"
      ]
     },
     "execution_count": 78,
     "metadata": {},
     "output_type": "execute_result"
    }
   ],
   "source": [
    "# cross product\n",
    "np.cross(np.array([2,0,0]), np.array([0,3,0]))"
   ]
  },
  {
   "cell_type": "markdown",
   "id": "0ef8ee60-0a19-4a00-ac5e-9d39318a273b",
   "metadata": {},
   "source": [
    "**Note:** An error gets thrown when using doing cross product on arrays less than 2 dimensions."
   ]
  },
  {
   "cell_type": "code",
   "execution_count": 83,
   "id": "f92bc4ae-0d37-4bd7-b91c-5c6a0e9ed4d6",
   "metadata": {
    "tags": []
   },
   "outputs": [
    {
     "data": {
      "text/plain": [
       "149"
      ]
     },
     "execution_count": 83,
     "metadata": {},
     "output_type": "execute_result"
    }
   ],
   "source": [
    "# index and value of max value\n",
    "np.argmax(arr3)\n",
    "np.max(arr3)"
   ]
  },
  {
   "cell_type": "markdown",
   "id": "2db65a8e-4a4a-4406-b8f9-ce1fbc47582f",
   "metadata": {},
   "source": [
    "**Note:** Similar functions exist for minimum as well."
   ]
  },
  {
   "cell_type": "code",
   "execution_count": 88,
   "id": "54fd1672-b090-48b5-ad79-159c62f1dd7b",
   "metadata": {
    "tags": []
   },
   "outputs": [
    {
     "data": {
      "text/plain": [
       "14.107748630755067"
      ]
     },
     "execution_count": 88,
     "metadata": {},
     "output_type": "execute_result"
    }
   ],
   "source": [
    "# statistical functions\n",
    "arr1.mean()\n",
    "arr1.var()\n",
    "arr1.std(ddof=1)"
   ]
  },
  {
   "cell_type": "markdown",
   "id": "57f6a763-d308-4e30-9967-3170e9e078e5",
   "metadata": {},
   "source": [
    "**Note:** **Pandas** `std()` uses Bessel’s correction by default."
   ]
  },
  {
   "cell_type": "markdown",
   "id": "c74664e6-4329-4482-8bc2-23bd82972b98",
   "metadata": {},
   "source": [
    "**Note:** Each of these functions has a **nan-resistant variant**: eg `np.nansum()`, `np.nanmax()`, etc."
   ]
  },
  {
   "cell_type": "code",
   "execution_count": 92,
   "id": "92c6a0ba-d667-4576-91a8-4289950215e4",
   "metadata": {
    "tags": []
   },
   "outputs": [
    {
     "data": {
      "text/plain": [
       "array([11.8063203 , 12.99092034, 10.29625821, 11.93815901, 11.61518173,\n",
       "       10.75099865])"
      ]
     },
     "execution_count": 92,
     "metadata": {},
     "output_type": "execute_result"
    }
   ],
   "source": [
    "arr1 = rng.uniform(10,15,6)\n",
    "arr1"
   ]
  },
  {
   "cell_type": "code",
   "execution_count": 96,
   "id": "54604d42-d072-4ded-9553-008c6bae46aa",
   "metadata": {
    "tags": []
   },
   "outputs": [
    {
     "data": {
      "text/plain": [
       "array([11., 12., 10., 11., 11., 10.])"
      ]
     },
     "execution_count": 96,
     "metadata": {},
     "output_type": "execute_result"
    }
   ],
   "source": [
    "# rounds to -inf\n",
    "np.floor(arr1)"
   ]
  },
  {
   "cell_type": "code",
   "execution_count": 97,
   "id": "e3ec7fa7-f869-461b-84ee-e2cc15247d0e",
   "metadata": {
    "tags": []
   },
   "outputs": [
    {
     "data": {
      "text/plain": [
       "array([12., 13., 11., 12., 12., 11.])"
      ]
     },
     "execution_count": 97,
     "metadata": {},
     "output_type": "execute_result"
    }
   ],
   "source": [
    "# rounds to +inf\n",
    "np.ceil(arr1)"
   ]
  },
  {
   "cell_type": "code",
   "execution_count": 100,
   "id": "631d3c4f-0546-4406-92a9-504817ed0338",
   "metadata": {
    "tags": []
   },
   "outputs": [
    {
     "data": {
      "text/plain": [
       "array([12., 13., 10., 12., 12., 11.])"
      ]
     },
     "execution_count": 100,
     "metadata": {},
     "output_type": "execute_result"
    }
   ],
   "source": [
    "# rounds to the nearest integer (.5 to even) \n",
    "np.round(arr1)"
   ]
  },
  {
   "cell_type": "markdown",
   "id": "319de88f-44de-40dc-ba84-18a070feadc3",
   "metadata": {},
   "source": [
    "**Note:** [Numpy Functions Docs](https://numpy.org/doc/stable/reference/routines.math.html)"
   ]
  },
  {
   "cell_type": "markdown",
   "id": "15272147-035b-46b7-b3dc-0089a36c77a2",
   "metadata": {},
   "source": [
    "## Matrices, the 2-D Arrays"
   ]
  },
  {
   "cell_type": "markdown",
   "id": "f597492b-f302-4f75-86fb-3f619a759f50",
   "metadata": {},
   "source": [
    "### Creation"
   ]
  },
  {
   "cell_type": "code",
   "execution_count": 101,
   "id": "54a54463-5ab2-4fcd-b65a-f80b224cbebf",
   "metadata": {
    "tags": []
   },
   "outputs": [],
   "source": [
    "mat1 = np.array([[1,2,3],\n",
    "                 [4,5,6]])"
   ]
  },
  {
   "cell_type": "code",
   "execution_count": 111,
   "id": "510a607e-3ace-459c-998a-a05ff3c72c8d",
   "metadata": {
    "tags": []
   },
   "outputs": [
    {
     "data": {
      "text/plain": [
       "2"
      ]
     },
     "execution_count": 111,
     "metadata": {},
     "output_type": "execute_result"
    }
   ],
   "source": [
    "# array attributes\n",
    "mat1.shape\n",
    "mat1.ndim"
   ]
  },
  {
   "cell_type": "markdown",
   "id": "fffc38ce-005a-44c5-aaef-b180ad633060",
   "metadata": {},
   "source": [
    "**Note:** Like the methods we use in 1-D arrays, we have the same methods to create 2-D arrays."
   ]
  },
  {
   "cell_type": "code",
   "execution_count": 114,
   "id": "b1e5e9fc-7de8-4a0c-a0db-8fe42fe49cf4",
   "metadata": {
    "tags": []
   },
   "outputs": [
    {
     "data": {
      "text/plain": [
       "array([[1., 0., 0., 0., 0.],\n",
       "       [0., 1., 0., 0., 0.],\n",
       "       [0., 0., 1., 0., 0.],\n",
       "       [0., 0., 0., 1., 0.],\n",
       "       [0., 0., 0., 0., 1.]])"
      ]
     },
     "execution_count": 114,
     "metadata": {},
     "output_type": "execute_result"
    }
   ],
   "source": [
    "np.eye(5)"
   ]
  },
  {
   "cell_type": "code",
   "execution_count": 126,
   "id": "d9a855e9-aa56-4484-abdc-2dd49490d69f",
   "metadata": {
    "tags": []
   },
   "outputs": [
    {
     "data": {
      "text/plain": [
       "array([[76, 75, 81, 66],\n",
       "       [21, 85, 46, 85],\n",
       "       [82, 96, 10, 86]], dtype=int64)"
      ]
     },
     "execution_count": 126,
     "metadata": {},
     "output_type": "execute_result"
    }
   ],
   "source": [
    "rng.integers(9,99,size=(3,4))"
   ]
  },
  {
   "cell_type": "markdown",
   "id": "f122962e-b9f6-4c11-ba14-d18a982a984e",
   "metadata": {},
   "source": [
    "### Indexing, Slicing and Masking"
   ]
  },
  {
   "cell_type": "code",
   "execution_count": 96,
   "id": "d6a8fc7b-c388-411f-aad1-2566399c8404",
   "metadata": {
    "tags": []
   },
   "outputs": [
    {
     "data": {
      "text/plain": [
       "array([[172,  71, 180, 103, 106],\n",
       "       [153, 157, 181, 199,  30],\n",
       "       [ 82, 186,  61,   1, 115],\n",
       "       [150, 148, 162, 128,  27],\n",
       "       [169,  83, 169, 163, 194]], dtype=int64)"
      ]
     },
     "execution_count": 96,
     "metadata": {},
     "output_type": "execute_result"
    }
   ],
   "source": [
    "mat1 = rng.integers(0,200,(5,5))\n",
    "mat1"
   ]
  },
  {
   "cell_type": "code",
   "execution_count": 138,
   "id": "629d4d66-5698-43b3-bea9-b00fb26ac0e0",
   "metadata": {
    "tags": []
   },
   "outputs": [
    {
     "data": {
      "text/plain": [
       "95"
      ]
     },
     "execution_count": 138,
     "metadata": {},
     "output_type": "execute_result"
    }
   ],
   "source": [
    "# indexing\n",
    "mat1[2] # indexes row\n",
    "mat1[:,3] # indexes column\n",
    "mat1[2,3] # indexes row and column"
   ]
  },
  {
   "cell_type": "code",
   "execution_count": 151,
   "id": "b57acde9-20d1-4afd-acd4-e94e8e9a943d",
   "metadata": {
    "tags": []
   },
   "outputs": [
    {
     "data": {
      "text/plain": [
       "array([[162, 168, 118],\n",
       "       [120, 181,  95],\n",
       "       [ 91, 131,  75]], dtype=int64)"
      ]
     },
     "execution_count": 151,
     "metadata": {},
     "output_type": "execute_result"
    }
   ],
   "source": [
    "# slicing 1\n",
    "mat1[1:-1,1:-1]"
   ]
  },
  {
   "cell_type": "code",
   "execution_count": 153,
   "id": "211cb7ed-4fa3-4892-af13-598c4899a875",
   "metadata": {
    "tags": []
   },
   "outputs": [
    {
     "data": {
      "text/plain": [
       "array([[ 33,  93,  59],\n",
       "       [149, 181,  34],\n",
       "       [ 25, 151,  46]], dtype=int64)"
      ]
     },
     "execution_count": 153,
     "metadata": {},
     "output_type": "execute_result"
    }
   ],
   "source": [
    "# slicing 2\n",
    "mat1[::2,::2]"
   ]
  },
  {
   "cell_type": "code",
   "execution_count": 164,
   "id": "16b20c61-5c26-4085-9576-1a0b941225f9",
   "metadata": {
    "tags": []
   },
   "outputs": [
    {
     "data": {
      "text/plain": [
       "array([33, 10, 93, 42, 59, 22, 95, 34, 91, 75, 61, 25, 93, 46],\n",
       "      dtype=int64)"
      ]
     },
     "execution_count": 164,
     "metadata": {},
     "output_type": "execute_result"
    }
   ],
   "source": [
    "# masking\n",
    "mask = ~(mat1>100)\n",
    "mat1[mask]"
   ]
  },
  {
   "cell_type": "markdown",
   "id": "85ba2786-1617-48ad-9112-06bdd3c694e3",
   "metadata": {},
   "source": [
    "### Operations"
   ]
  },
  {
   "cell_type": "code",
   "execution_count": 121,
   "id": "52d7aece-cf36-4928-853e-0339e60abadc",
   "metadata": {},
   "outputs": [
    {
     "data": {
      "text/plain": [
       "array([[-49,  36,  12,  -2],\n",
       "       [ 29,  45,   1, -42],\n",
       "       [ 22, -27, -28, -31],\n",
       "       [-31,  40, -14, -40]], dtype=int64)"
      ]
     },
     "execution_count": 121,
     "metadata": {},
     "output_type": "execute_result"
    }
   ],
   "source": [
    "mat1 = rng.integers(-50,50,(4,4))\n",
    "mat1"
   ]
  },
  {
   "cell_type": "code",
   "execution_count": 11,
   "id": "dd0e6521-5157-46ff-959e-21fa006560ae",
   "metadata": {},
   "outputs": [
    {
     "data": {
      "text/plain": [
       "array([[-24,  63, -20, -25],\n",
       "       [ 15,  95, -22,  17],\n",
       "       [-13,  21, -11,  27],\n",
       "       [  9,  35,  91, -70]], dtype=int64)"
      ]
     },
     "execution_count": 11,
     "metadata": {},
     "output_type": "execute_result"
    }
   ],
   "source": [
    "mat2 = rng.integers(-100,100,(4,4))\n",
    "mat2"
   ]
  },
  {
   "cell_type": "code",
   "execution_count": 12,
   "id": "6fedbba7-536d-44a6-a979-6cd4b0f03216",
   "metadata": {},
   "outputs": [
    {
     "data": {
      "text/plain": [
       "array([[  6,  -6, -15, -27, -45],\n",
       "       [-10,  32, -41, -10,  46],\n",
       "       [ 45, -29, -50,  17, -49],\n",
       "       [-20,  -1,  37, -41,  16],\n",
       "       [  3, -37,  34,  34,  -2]], dtype=int64)"
      ]
     },
     "execution_count": 12,
     "metadata": {},
     "output_type": "execute_result"
    }
   ],
   "source": [
    "mat3 = rng.integers(-50,50,(5,5))\n",
    "mat3"
   ]
  },
  {
   "cell_type": "code",
   "execution_count": 18,
   "id": "fdb0baee-06ee-4d02-8f20-4545c67fc450",
   "metadata": {},
   "outputs": [
    {
     "data": {
      "text/plain": [
       "array([[ -4,  12,  -2, -11],\n",
       "       [  7,  27, -11,   6],\n",
       "       [ -6,   1,   0,  10],\n",
       "       [  5,  20,  90, -38]], dtype=int64)"
      ]
     },
     "execution_count": 18,
     "metadata": {},
     "output_type": "execute_result"
    }
   ],
   "source": [
    "# arithmetic operations \n",
    "mat1+mat2\n",
    "mat1/mat2\n",
    "mat1%mat2"
   ]
  },
  {
   "cell_type": "code",
   "execution_count": 40,
   "id": "6e5c2582-3861-4478-9e65-f4308dff5e66",
   "metadata": {
    "tags": []
   },
   "outputs": [
    {
     "data": {
      "text/plain": [
       "array([[  36,   36,  225,  729, 2025],\n",
       "       [ 100, 1024, 1681,  100, 2116],\n",
       "       [2025,  841, 2500,  289, 2401],\n",
       "       [ 400,    1, 1369, 1681,  256],\n",
       "       [   9, 1369, 1156, 1156,    4]], dtype=int64)"
      ]
     },
     "execution_count": 40,
     "metadata": {},
     "output_type": "execute_result"
    }
   ],
   "source": [
    "# scalar multiplication\n",
    "mat3*2\n",
    "mat3**2"
   ]
  },
  {
   "cell_type": "code",
   "execution_count": 45,
   "id": "092f6a7d-4048-40e7-9b44-fd3abbea5a14",
   "metadata": {
    "tags": []
   },
   "outputs": [
    {
     "data": {
      "text/plain": [
       "array([[ 82, 188, 375],\n",
       "       [ 55, 104, 366],\n",
       "       [ 87, 260, 159]], dtype=int64)"
      ]
     },
     "execution_count": 45,
     "metadata": {},
     "output_type": "execute_result"
    }
   ],
   "source": [
    "# broadcasting\n",
    "mat4 = rng.integers(50,150,(3,3))\n",
    "mat4 / 150\n",
    "mat4 * np.array([1,2,3])"
   ]
  },
  {
   "cell_type": "code",
   "execution_count": 35,
   "id": "046fc8ae-dc69-4005-9b1c-ef2cdf251fa4",
   "metadata": {
    "tags": []
   },
   "outputs": [
    {
     "name": "stderr",
     "output_type": "stream",
     "text": [
      "C:\\Users\\Ahmed\\AppData\\Local\\Temp\\ipykernel_14408\\1478841084.py:2: RuntimeWarning: invalid value encountered in log\n",
      "  np.log(mat3)\n"
     ]
    },
    {
     "data": {
      "text/plain": [
       "array([[1.79175947,        nan,        nan,        nan,        nan],\n",
       "       [       nan, 3.4657359 ,        nan,        nan, 3.8286414 ],\n",
       "       [3.80666249,        nan,        nan, 2.83321334,        nan],\n",
       "       [       nan,        nan, 3.61091791,        nan, 2.77258872],\n",
       "       [1.09861229,        nan, 3.52636052, 3.52636052,        nan]])"
      ]
     },
     "execution_count": 35,
     "metadata": {},
     "output_type": "execute_result"
    }
   ],
   "source": [
    "# numpy functions\n",
    "np.log(mat3)"
   ]
  },
  {
   "cell_type": "code",
   "execution_count": 39,
   "id": "9bd168f7-4a53-4415-860b-b2d376ff3252",
   "metadata": {},
   "outputs": [
    {
     "data": {
      "text/plain": [
       "array([-87,  17, -66,  -9,  32], dtype=int64)"
      ]
     },
     "execution_count": 39,
     "metadata": {},
     "output_type": "execute_result"
    }
   ],
   "source": [
    "mat3.sum() # element wise summation\n",
    "mat3.sum(axis=0) # column wise summation\n",
    "mat3.sum(axis=1) # row wise summation"
   ]
  },
  {
   "cell_type": "code",
   "execution_count": 73,
   "id": "1620228a-66b9-4351-8670-f86f66e177d0",
   "metadata": {
    "tags": []
   },
   "outputs": [
    {
     "data": {
      "text/plain": [
       "array([ 307.44,  992.64, 1436.96,  738.16,  697.84])"
      ]
     },
     "execution_count": 73,
     "metadata": {},
     "output_type": "execute_result"
    }
   ],
   "source": [
    "# statistical functions\n",
    "mat3.mean(axis=0)\n",
    "mat3.var(axis=1)"
   ]
  },
  {
   "cell_type": "code",
   "execution_count": 72,
   "id": "cd4168a4-5f89-4f63-bd52-c84f17f0bc7b",
   "metadata": {
    "tags": []
   },
   "outputs": [
    {
     "data": {
      "text/plain": [
       "array([3, 4, 2, 3, 2], dtype=int64)"
      ]
     },
     "execution_count": 72,
     "metadata": {},
     "output_type": "execute_result"
    }
   ],
   "source": [
    "mat3.min(axis=0)\n",
    "mat3.argmin(axis=0)"
   ]
  },
  {
   "cell_type": "code",
   "execution_count": 47,
   "id": "b5e27615-23d7-4274-9fa9-bb4d367da4cd",
   "metadata": {
    "tags": []
   },
   "outputs": [
    {
     "data": {
      "text/plain": [
       "array([[ -759,  5655,  2207, -3140],\n",
       "       [ -444,  2719, -3645,  3135],\n",
       "       [ 1399, -3902,  4949, -2399],\n",
       "       [-1433, -1068,  3203, -4142]], dtype=int64)"
      ]
     },
     "execution_count": 47,
     "metadata": {},
     "output_type": "execute_result"
    }
   ],
   "source": [
    "# matrix multiplication\n",
    "mat1 * mat2 # element wise multiplication\n",
    "mat1 @ mat2\n",
    "np.dot(mat1, mat2)"
   ]
  },
  {
   "cell_type": "markdown",
   "id": "4af23815-04d8-4463-afb5-23dc7a3e9923",
   "metadata": {},
   "source": [
    "**Note:** `@` and `np.dot()` computes matrix multiplication as taught in mathematics. Whereas using `*` operator caues element-wise multiplication."
   ]
  },
  {
   "cell_type": "code",
   "execution_count": 61,
   "id": "f41e64c5-c4c9-4081-89b9-851c7e2df664",
   "metadata": {
    "tags": []
   },
   "outputs": [
    {
     "data": {
      "text/plain": [
       "array([[14]])"
      ]
     },
     "execution_count": 61,
     "metadata": {},
     "output_type": "execute_result"
    }
   ],
   "source": [
    "np.array([[1],[2],[3]]) * np.array([[1,2,3]]) # broadcasting occurs here\n",
    "np.array([[1],[2],[3]]) @ np.array([[1,2,3]]) # matrix multiplication 3x1 * 1x3\n",
    "np.array([[1,2,3]]) @ np.array([[1],[2],[3]]) # matrix multiplication 1x3 * 3x1"
   ]
  },
  {
   "cell_type": "code",
   "execution_count": 86,
   "id": "281d358d-5ec2-43b0-9689-827f341ecf2a",
   "metadata": {
    "tags": []
   },
   "outputs": [
    {
     "data": {
      "text/plain": [
       "array([[ 44,  12,  18,  39],\n",
       "       [  7,  27,  33, -28],\n",
       "       [-45, -20, -22,  37],\n",
       "       [ 41, -50,  -1,  32]], dtype=int64)"
      ]
     },
     "execution_count": 86,
     "metadata": {},
     "output_type": "execute_result"
    }
   ],
   "source": [
    "mat1"
   ]
  },
  {
   "cell_type": "code",
   "execution_count": 89,
   "id": "0278e02e-c392-4f8a-8842-999fce1f524e",
   "metadata": {
    "tags": []
   },
   "outputs": [
    {
     "data": {
      "text/plain": [
       "array([[-45, -50, -22, -28],\n",
       "       [  7, -20,  -1,  32],\n",
       "       [ 41,  12,  18,  37],\n",
       "       [ 44,  27,  33,  39]], dtype=int64)"
      ]
     },
     "execution_count": 89,
     "metadata": {},
     "output_type": "execute_result"
    }
   ],
   "source": [
    "np.argsort(mat1,axis=0) # returns index matrix of sorted matrix\n",
    "np.sort(mat1,axis=0)"
   ]
  },
  {
   "cell_type": "markdown",
   "id": "a2d4736f-31f3-4342-bdd2-b6f8ce0678c2",
   "metadata": {},
   "source": [
    "### Shaping and Reshaping"
   ]
  },
  {
   "cell_type": "code",
   "execution_count": 98,
   "id": "10205e67-bc35-4cd4-9156-fae1f7a515b6",
   "metadata": {
    "tags": []
   },
   "outputs": [
    {
     "name": "stdout",
     "output_type": "stream",
     "text": [
      "172\n",
      "71\n",
      "180\n",
      "103\n",
      "106\n",
      "153\n",
      "157\n",
      "181\n",
      "199\n",
      "30\n",
      "82\n",
      "186\n",
      "61\n",
      "1\n",
      "115\n",
      "150\n",
      "148\n",
      "162\n",
      "128\n",
      "27\n",
      "169\n",
      "83\n",
      "169\n",
      "163\n",
      "194\n"
     ]
    }
   ],
   "source": [
    "for i in np.nditer(mat1):\n",
    "    print(i)"
   ]
  },
  {
   "cell_type": "code",
   "execution_count": 100,
   "id": "6fcd1479-8433-4ba8-a0fa-4d3738071845",
   "metadata": {
    "tags": []
   },
   "outputs": [
    {
     "data": {
      "text/plain": [
       "array([172,  71, 180, 103, 106, 153, 157, 181, 199,  30,  82, 186,  61,\n",
       "         1, 115, 150, 148, 162, 128,  27, 169,  83, 169, 163, 194],\n",
       "      dtype=int64)"
      ]
     },
     "execution_count": 100,
     "metadata": {},
     "output_type": "execute_result"
    }
   ],
   "source": [
    "# converts any n-dim array to 1d array\n",
    "mat1.ravel()"
   ]
  },
  {
   "cell_type": "code",
   "execution_count": 64,
   "id": "61a27abe-64c1-4a8e-b42c-7bedda310187",
   "metadata": {
    "tags": []
   },
   "outputs": [
    {
     "data": {
      "text/plain": [
       "array([[11,  5,  7],\n",
       "       [ 8, 10, 11]], dtype=int64)"
      ]
     },
     "execution_count": 64,
     "metadata": {},
     "output_type": "execute_result"
    }
   ],
   "source": [
    "# transpose\n",
    "rng.integers(5,15,(3,2)).T"
   ]
  },
  {
   "cell_type": "code",
   "execution_count": 110,
   "id": "8a40524a-7047-462c-b9f0-d23ed629c1bd",
   "metadata": {
    "tags": []
   },
   "outputs": [
    {
     "data": {
      "text/plain": [
       "array([[-24,  63, -20, -25,  15,  95, -22,  17],\n",
       "       [-13,  21, -11,  27,   9,  35,  91, -70]], dtype=int64)"
      ]
     },
     "execution_count": 110,
     "metadata": {},
     "output_type": "execute_result"
    }
   ],
   "source": [
    "# reshapes array into different dim\n",
    "mat2.reshape(2,8)"
   ]
  },
  {
   "cell_type": "code",
   "execution_count": 117,
   "id": "2b7eeb8e-06d1-43fd-81d1-e4f5b7eb3f68",
   "metadata": {
    "tags": []
   },
   "outputs": [
    {
     "data": {
      "text/plain": [
       "array([[-24,  63, -20, -25,  15,  95, -22,  17, -13,  21, -11,  27,   9,\n",
       "         35,  91, -70]], dtype=int64)"
      ]
     },
     "execution_count": 117,
     "metadata": {},
     "output_type": "execute_result"
    }
   ],
   "source": [
    "# converts matrix to either column or row matrix\n",
    "mat2.reshape(-1,1)\n",
    "mat2.reshape(1,-1)"
   ]
  },
  {
   "cell_type": "markdown",
   "id": "fc7dbbf7-02a9-47b4-a2c8-a0b7878eb95a",
   "metadata": {},
   "source": [
    "**Note:** Here, $-1$ means variable length. The positive number and its position denotes either row or column matrix. if positive number is in row index, it creates a row matrix and vice-versa."
   ]
  },
  {
   "cell_type": "code",
   "execution_count": 127,
   "id": "23d1f187-6822-499a-a01a-81499ec4a835",
   "metadata": {
    "tags": []
   },
   "outputs": [
    {
     "data": {
      "text/plain": [
       "array([[-49,  36,  12,  -2, -24,  63, -20, -25],\n",
       "       [ 29,  45,   1, -42,  15,  95, -22,  17],\n",
       "       [ 22, -27, -28, -31, -13,  21, -11,  27],\n",
       "       [-31,  40, -14, -40,   9,  35,  91, -70]], dtype=int64)"
      ]
     },
     "execution_count": 127,
     "metadata": {},
     "output_type": "execute_result"
    }
   ],
   "source": [
    "# joining two matrices horizontally\n",
    "matx = np.hstack((mat1, mat2))\n",
    "matx"
   ]
  },
  {
   "cell_type": "code",
   "execution_count": 128,
   "id": "a75bff3e-e7c3-493d-aa4d-a7eb468a27f3",
   "metadata": {
    "tags": []
   },
   "outputs": [
    {
     "data": {
      "text/plain": [
       "array([[-49,  36,  12,  -2],\n",
       "       [ 29,  45,   1, -42],\n",
       "       [ 22, -27, -28, -31],\n",
       "       [-31,  40, -14, -40],\n",
       "       [-24,  63, -20, -25],\n",
       "       [ 15,  95, -22,  17],\n",
       "       [-13,  21, -11,  27],\n",
       "       [  9,  35,  91, -70]], dtype=int64)"
      ]
     },
     "execution_count": 128,
     "metadata": {},
     "output_type": "execute_result"
    }
   ],
   "source": [
    "# joining two matrices vertically\n",
    "maty = np.vstack((mat1, mat2))\n",
    "maty"
   ]
  },
  {
   "cell_type": "code",
   "execution_count": 132,
   "id": "fdc18898-156c-4745-90fa-6be72666be7a",
   "metadata": {
    "tags": []
   },
   "outputs": [
    {
     "data": {
      "text/plain": [
       "[array([[-49,  36,  12],\n",
       "        [ 29,  45,   1],\n",
       "        [ 22, -27, -28],\n",
       "        [-31,  40, -14]], dtype=int64),\n",
       " array([[ -2, -24],\n",
       "        [-42,  15],\n",
       "        [-31, -13],\n",
       "        [-40,   9]], dtype=int64),\n",
       " array([[ 63, -20, -25],\n",
       "        [ 95, -22,  17],\n",
       "        [ 21, -11,  27],\n",
       "        [ 35,  91, -70]], dtype=int64)]"
      ]
     },
     "execution_count": 132,
     "metadata": {},
     "output_type": "execute_result"
    }
   ],
   "source": [
    "# splitting two matrices horizontally\n",
    "np.hsplit(matx,[3,5])"
   ]
  },
  {
   "cell_type": "code",
   "execution_count": 138,
   "id": "ba6731de-57b7-4931-87ae-1c6fa41896e6",
   "metadata": {
    "tags": []
   },
   "outputs": [
    {
     "data": {
      "text/plain": [
       "[array([[-49,  36,  12,  -2],\n",
       "        [ 29,  45,   1, -42]], dtype=int64),\n",
       " array([[ 22, -27, -28, -31],\n",
       "        [-31,  40, -14, -40],\n",
       "        [-24,  63, -20, -25]], dtype=int64),\n",
       " array([[ 15,  95, -22,  17],\n",
       "        [-13,  21, -11,  27],\n",
       "        [  9,  35,  91, -70]], dtype=int64)]"
      ]
     },
     "execution_count": 138,
     "metadata": {},
     "output_type": "execute_result"
    }
   ],
   "source": [
    "# splitting two matrices vertically\n",
    "np.vsplit(maty,[2,5])"
   ]
  },
  {
   "cell_type": "markdown",
   "id": "b9379469-6be5-491c-9b20-1e24149c1da2",
   "metadata": {
    "jp-MarkdownHeadingCollapsed": true,
    "tags": []
   },
   "source": [
    "# SymPy\n",
    "\n",
    "[Sympy playlist](https://www.youtube.com/watch?v=VKOYjemQRqw&list=PLSE7WKf_qqo1T5VV1nqXTj2iNiSpFk72T)  \n",
    "[Sympy video](https://www.youtube.com/watch?v=1yBPEPhq54M&pp=ygUFc3ltcHk%3D)"
   ]
  },
  {
   "cell_type": "code",
   "execution_count": null,
   "id": "75a3a8b4-7e38-452b-9a1a-16a8c5787bab",
   "metadata": {},
   "outputs": [],
   "source": []
  },
  {
   "cell_type": "code",
   "execution_count": null,
   "id": "0ee137ed-43e5-43d5-84e2-5d7fc45df17e",
   "metadata": {},
   "outputs": [],
   "source": []
  },
  {
   "cell_type": "code",
   "execution_count": null,
   "id": "b905136e-9ff2-489a-a2be-fc8b676d884e",
   "metadata": {},
   "outputs": [],
   "source": []
  },
  {
   "cell_type": "code",
   "execution_count": null,
   "id": "bbe0a582-26dc-41d8-9537-5d9a4e795717",
   "metadata": {},
   "outputs": [],
   "source": []
  },
  {
   "cell_type": "code",
   "execution_count": null,
   "id": "59e3eabb-59aa-43ab-90fb-c7e778752dd0",
   "metadata": {},
   "outputs": [],
   "source": []
  },
  {
   "cell_type": "code",
   "execution_count": null,
   "id": "e7621540-7b2c-4a4d-bfa5-96771f4e2258",
   "metadata": {},
   "outputs": [],
   "source": []
  },
  {
   "cell_type": "markdown",
   "id": "2f06d903-0a13-47fe-867f-ecd1642848ee",
   "metadata": {
    "jp-MarkdownHeadingCollapsed": true,
    "tags": []
   },
   "source": [
    "# SciPy\n",
    "\n",
    "[Scipy video](https://www.youtube.com/watch?v=jmX4FOUEfgU&pp=ygUFc2NpcHk%3D)"
   ]
  },
  {
   "cell_type": "code",
   "execution_count": null,
   "id": "5f2f80ec-83b4-4ee0-a67e-f7b38940faff",
   "metadata": {},
   "outputs": [],
   "source": []
  }
 ],
 "metadata": {
  "kernelspec": {
   "display_name": "Python 3 (ipykernel)",
   "language": "python",
   "name": "python3"
  },
  "language_info": {
   "codemirror_mode": {
    "name": "ipython",
    "version": 3
   },
   "file_extension": ".py",
   "mimetype": "text/x-python",
   "name": "python",
   "nbconvert_exporter": "python",
   "pygments_lexer": "ipython3",
   "version": "3.11.5"
  }
 },
 "nbformat": 4,
 "nbformat_minor": 5
}
