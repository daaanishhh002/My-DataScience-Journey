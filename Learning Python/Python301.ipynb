{
 "cells": [
  {
   "cell_type": "markdown",
   "id": "45b5f826-7275-452d-a56c-3964b707f11a",
   "metadata": {
    "tags": []
   },
   "source": [
    "# Python III\n",
    "\n",
    "1. `time` and `pendulum`\n",
    "2. `tkinter`\n",
    "3. `regex`\n",
    "3. `flask`\n",
    "4. `numpy`\n",
    "5. `matplotlib`\n",
    "6. `seaborn`\n",
    "7. `pandas`"
   ]
  },
  {
   "cell_type": "markdown",
   "id": "a6903645-d81b-449b-b018-8f7b59895203",
   "metadata": {
    "jp-MarkdownHeadingCollapsed": true,
    "tags": []
   },
   "source": [
    "# Time Module\n",
    "\n",
    "The `time` module in python provides various functions for working with time-related tasks\n",
    "\n",
    "---"
   ]
  },
  {
   "cell_type": "code",
   "execution_count": 1,
   "id": "8fc2f5c0-c01d-493e-b7e9-d8bbd74b75bd",
   "metadata": {
    "tags": []
   },
   "outputs": [],
   "source": [
    "import time"
   ]
  },
  {
   "cell_type": "code",
   "execution_count": 42,
   "id": "b0e550d3-0b89-4ce5-a185-80f2b214f538",
   "metadata": {
    "tags": []
   },
   "outputs": [
    {
     "data": {
      "text/plain": [
       "'Fri Nov 10 23:48:49 2023'"
      ]
     },
     "execution_count": 42,
     "metadata": {},
     "output_type": "execute_result"
    }
   ],
   "source": [
    "# prints current date and time\n",
    "time.ctime()"
   ]
  },
  {
   "cell_type": "code",
   "execution_count": 35,
   "id": "113a9a33-49fc-4312-8496-4e15677fca6a",
   "metadata": {
    "tags": []
   },
   "outputs": [
    {
     "data": {
      "text/plain": [
       "1699640093.329219"
      ]
     },
     "execution_count": 35,
     "metadata": {},
     "output_type": "execute_result"
    }
   ],
   "source": [
    "# seconds from epoch\n",
    "time.time()"
   ]
  },
  {
   "cell_type": "markdown",
   "id": "4c111274-37e0-42ce-bd82-bc639ee3e3a5",
   "metadata": {},
   "source": [
    "**Note:** Epoch $=$ January 1st, 1970 00:00:00 UTC (Coordinated Universal Time)"
   ]
  },
  {
   "cell_type": "code",
   "execution_count": 43,
   "id": "824cd0c7-4e2a-4a84-906f-3db6a8d1c1a5",
   "metadata": {
    "tags": []
   },
   "outputs": [
    {
     "name": "stdout",
     "output_type": "stream",
     "text": [
      "I'm awake now!\n"
     ]
    }
   ],
   "source": [
    "# suspends execution for x seconds\n",
    "time.sleep(5)\n",
    "print('I\\'m awake now!')"
   ]
  },
  {
   "cell_type": "code",
   "execution_count": 48,
   "id": "97e3b338-8bbc-4767-a4bc-64d9fa4bbf18",
   "metadata": {
    "tags": []
   },
   "outputs": [
    {
     "data": {
      "text/plain": [
       "time.struct_time(tm_year=2023, tm_mon=11, tm_mday=10, tm_hour=18, tm_min=21, tm_sec=11, tm_wday=4, tm_yday=314, tm_isdst=0)"
      ]
     },
     "execution_count": 48,
     "metadata": {},
     "output_type": "execute_result"
    }
   ],
   "source": [
    "# returns UCT as a struct object\n",
    "time.gmtime()"
   ]
  },
  {
   "cell_type": "code",
   "execution_count": 49,
   "id": "9e2657c7-a1d7-43cf-acbe-177abf80d491",
   "metadata": {
    "tags": []
   },
   "outputs": [
    {
     "data": {
      "text/plain": [
       "time.struct_time(tm_year=2023, tm_mon=11, tm_mday=10, tm_hour=23, tm_min=51, tm_sec=26, tm_wday=4, tm_yday=314, tm_isdst=0)"
      ]
     },
     "execution_count": 49,
     "metadata": {},
     "output_type": "execute_result"
    }
   ],
   "source": [
    "# returns local time as a struct object\n",
    "time.localtime()"
   ]
  },
  {
   "cell_type": "code",
   "execution_count": 52,
   "id": "512aa334-e752-4b15-938b-986326bd4ece",
   "metadata": {
    "tags": []
   },
   "outputs": [
    {
     "data": {
      "text/plain": [
       "'Fri, Nov 10 2023 11:57 PM'"
      ]
     },
     "execution_count": 52,
     "metadata": {},
     "output_type": "execute_result"
    }
   ],
   "source": [
    "# formats a struct_time object accordingly and returns a string\n",
    "time.strftime(\"%a, %b %d %Y %I:%M %p\", time.localtime())"
   ]
  },
  {
   "cell_type": "code",
   "execution_count": 54,
   "id": "22911074-e4c9-44e2-b0fd-296f3fe02ff7",
   "metadata": {
    "tags": []
   },
   "outputs": [
    {
     "data": {
      "text/plain": [
       "time.struct_time(tm_year=2002, tm_mon=5, tm_mday=10, tm_hour=7, tm_min=0, tm_sec=0, tm_wday=4, tm_yday=130, tm_isdst=-1)"
      ]
     },
     "execution_count": 54,
     "metadata": {},
     "output_type": "execute_result"
    }
   ],
   "source": [
    "# parses a time-string and returns a struct_time object\n",
    "time_string = '10-05-2002 07:00 AM'\n",
    "time.strptime(time_string,\"%d-%m-%Y %I:%M %p\")"
   ]
  },
  {
   "cell_type": "markdown",
   "id": "4a4612d0-aa4c-4684-b51c-244c8db1b7b8",
   "metadata": {},
   "source": [
    "# Pendulum Package\n",
    "\n",
    "Pendulum is a Python library for handling datetime operations with a focus on ease of use and providing additional functionality compared to the standard `datetime` module.\n",
    "\n",
    "---"
   ]
  },
  {
   "cell_type": "code",
   "execution_count": 55,
   "id": "c77936ad-458c-431e-a5ef-fd0f302da13a",
   "metadata": {
    "tags": []
   },
   "outputs": [
    {
     "name": "stdout",
     "output_type": "stream",
     "text": [
      "Requirement already satisfied: pendulum in c:\\users\\ahmed\\anaconda3\\lib\\site-packages (2.1.2)\n",
      "Requirement already satisfied: python-dateutil<3.0,>=2.6 in c:\\users\\ahmed\\appdata\\roaming\\python\\python311\\site-packages (from pendulum) (2.8.2)\n",
      "Requirement already satisfied: pytzdata>=2020.1 in c:\\users\\ahmed\\anaconda3\\lib\\site-packages (from pendulum) (2020.1)\n",
      "Requirement already satisfied: six>=1.5 in c:\\users\\ahmed\\appdata\\roaming\\python\\python311\\site-packages (from python-dateutil<3.0,>=2.6->pendulum) (1.16.0)\n"
     ]
    }
   ],
   "source": [
    "!pip install pendulum"
   ]
  },
  {
   "cell_type": "code",
   "execution_count": 56,
   "id": "6faa7293-f117-4dec-9258-0a02ef38b663",
   "metadata": {
    "tags": []
   },
   "outputs": [],
   "source": [
    "import pendulum"
   ]
  },
  {
   "cell_type": "code",
   "execution_count": 192,
   "id": "81840f15-d5eb-4f15-8fb7-1668328ef8b9",
   "metadata": {
    "tags": []
   },
   "outputs": [
    {
     "data": {
      "text/plain": [
       "DateTime(2023, 11, 11, 0, 5, 42, 969181, tzinfo=Timezone('Asia/Calcutta'))"
      ]
     },
     "execution_count": 192,
     "metadata": {},
     "output_type": "execute_result"
    }
   ],
   "source": [
    "# returns a pendulum_datetime object of present local time\n",
    "pendulum.now()"
   ]
  },
  {
   "cell_type": "code",
   "execution_count": 191,
   "id": "5736c9a2-d6b7-4bf0-b88a-4b88410191b7",
   "metadata": {
    "tags": []
   },
   "outputs": [
    {
     "data": {
      "text/plain": [
       "DateTime(2023, 11, 10, 12, 30, 0, tzinfo=Timezone('UTC'))"
      ]
     },
     "execution_count": 191,
     "metadata": {},
     "output_type": "execute_result"
    }
   ],
   "source": [
    "# parses a datetime_string\n",
    "pendulum.parse('2023-11-10T12:30:00')"
   ]
  },
  {
   "cell_type": "code",
   "execution_count": 195,
   "id": "210f0953-bcca-4dc3-ab8e-ce32b0e0c77c",
   "metadata": {
    "tags": []
   },
   "outputs": [
    {
     "name": "stdout",
     "output_type": "stream",
     "text": [
      "2023-11-11T00:07:17.105966+05:30\n",
      "2023-11-18T00:07:17.105966+05:30\n",
      "2023-10-28T00:07:17.105966+05:30\n"
     ]
    }
   ],
   "source": [
    "# adding and subtracting date and time\n",
    "dt = pendulum.now()\n",
    "print(dt)\n",
    "\n",
    "future = dt.add(days=7)\n",
    "print(future)\n",
    "\n",
    "past = dt.subtract(weeks=2)\n",
    "print(past)"
   ]
  },
  {
   "cell_type": "code",
   "execution_count": 203,
   "id": "a8efe068-d1e1-4dc2-a31e-6068d9147f4d",
   "metadata": {
    "tags": []
   },
   "outputs": [
    {
     "data": {
      "text/plain": [
       "('Africa/Abidjan',\n",
       " 'America/Curacao',\n",
       " 'America/Shiprock',\n",
       " 'Asia/Pyongyang',\n",
       " 'Etc/GMT+6',\n",
       " 'Indian/Christmas')"
      ]
     },
     "execution_count": 203,
     "metadata": {},
     "output_type": "execute_result"
    }
   ],
   "source": [
    "# returns a tuple of timezones provided by pendulum\n",
    "pendulum.timezones[::100]"
   ]
  },
  {
   "cell_type": "code",
   "execution_count": 205,
   "id": "afe7be35-c784-4904-a254-e0c6cfc31a35",
   "metadata": {
    "tags": []
   },
   "outputs": [
    {
     "data": {
      "text/plain": [
       "DateTime(2023, 11, 10, 18, 44, 15, 170844, tzinfo=Timezone('UTC'))"
      ]
     },
     "execution_count": 205,
     "metadata": {},
     "output_type": "execute_result"
    }
   ],
   "source": [
    "# converts penddulum instance to another timezone\n",
    "dt = pendulum.now()\n",
    "dt.in_tz('UTC')"
   ]
  },
  {
   "cell_type": "code",
   "execution_count": 213,
   "id": "d7fb4cab-523c-42b8-9a22-fb09336ee195",
   "metadata": {
    "tags": []
   },
   "outputs": [
    {
     "data": {
      "text/plain": [
       "<Period [2023-11-11T00:17:55.361980+05:30 -> 2023-11-16T00:17:55.361980+05:30]>"
      ]
     },
     "execution_count": 213,
     "metadata": {},
     "output_type": "execute_result"
    }
   ],
   "source": [
    "# calculates difference between two dates\n",
    "dt1 = pendulum.now()\n",
    "dt2 = dt1.add(days=5)\n",
    "\n",
    "dt2-dt1\n",
    "dt1.diff(dt2) "
   ]
  },
  {
   "cell_type": "code",
   "execution_count": 216,
   "id": "d07a29ab-4079-41e8-8563-444271cc8f36",
   "metadata": {
    "tags": []
   },
   "outputs": [
    {
     "data": {
      "text/plain": [
       "'5 days before'"
      ]
     },
     "execution_count": 216,
     "metadata": {},
     "output_type": "execute_result"
    }
   ],
   "source": [
    "# returns human understandable difference\n",
    "dt1 = pendulum.now()\n",
    "dt2 = dt1.add(days=5)\n",
    "dt1.diff_for_humans(dt2)"
   ]
  },
  {
   "cell_type": "code",
   "execution_count": 218,
   "id": "a1d66a40-b0a8-44ec-b7a9-fb760a4b86ec",
   "metadata": {
    "tags": []
   },
   "outputs": [
    {
     "name": "stdout",
     "output_type": "stream",
     "text": [
      "dt1 is earlier than dt2\n"
     ]
    }
   ],
   "source": [
    "# pendulum instances can be compared using boolean logic\n",
    "dt1 = pendulum.now()\n",
    "dt2 = dt1.add(days=5)\n",
    "\n",
    "if dt1 < dt2:\n",
    "    print(\"dt1 is earlier than dt2\")"
   ]
  },
  {
   "cell_type": "code",
   "execution_count": null,
   "id": "88f016d9-4663-414d-b0f2-7b8463403b39",
   "metadata": {},
   "outputs": [],
   "source": []
  }
 ],
 "metadata": {
  "kernelspec": {
   "display_name": "Python 3 (ipykernel)",
   "language": "python",
   "name": "python3"
  },
  "language_info": {
   "codemirror_mode": {
    "name": "ipython",
    "version": 3
   },
   "file_extension": ".py",
   "mimetype": "text/x-python",
   "name": "python",
   "nbconvert_exporter": "python",
   "pygments_lexer": "ipython3",
   "version": "3.11.5"
  }
 },
 "nbformat": 4,
 "nbformat_minor": 5
}
